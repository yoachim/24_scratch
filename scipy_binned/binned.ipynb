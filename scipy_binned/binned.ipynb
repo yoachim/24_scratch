{
 "cells": [
  {
   "cell_type": "code",
   "execution_count": 1,
   "id": "3d77b426-5ceb-4bdc-a013-480f5eb2a608",
   "metadata": {},
   "outputs": [],
   "source": [
    "import numpy as np\n",
    "from scipy.stats import binned_statistic"
   ]
  },
  {
   "cell_type": "code",
   "execution_count": 2,
   "id": "21440988-a0f4-4556-9bca-0c612b7ce2e0",
   "metadata": {},
   "outputs": [],
   "source": [
    "names = [\"time\", \"night\", \"filter\"]\n",
    "types = [float, int, \"<U1\"]\n",
    "data = np.zeros(5, dtype=list(zip(names,types)))\n",
    "\n",
    "data[\"filter\"] = [\"g\", \"r\", \"r\", \"g\", \"r\"]\n",
    "data[\"night\"] = [0,0,0,1,1]\n",
    "data[\"time\"] = [0,.04,.5, 1.2, 1.3]"
   ]
  },
  {
   "cell_type": "code",
   "execution_count": 3,
   "id": "05eec9b7-7b49-4a78-8ee5-974b22f6d416",
   "metadata": {},
   "outputs": [
    {
     "data": {
      "text/plain": [
       "array([(0.  , 0, 'g'), (0.04, 0, 'r'), (0.5 , 0, 'r'), (1.2 , 1, 'g'),\n",
       "       (1.3 , 1, 'r')],\n",
       "      dtype=[('time', '<f8'), ('night', '<i8'), ('filter', '<U1')])"
      ]
     },
     "execution_count": 3,
     "metadata": {},
     "output_type": "execute_result"
    }
   ],
   "source": [
    "data"
   ]
  },
  {
   "cell_type": "code",
   "execution_count": 4,
   "id": "8b1443db-4ac4-4ded-bdf2-8a060d8fcc59",
   "metadata": {},
   "outputs": [],
   "source": [
    "def color_and_slope(in_data, color_length=1./24, slope_length=3./24.):\n",
    "    has_color = False\n",
    "    has_slope = False\n",
    "    u_filters = np.unique(in_data[\"filter\"])\n",
    "    \n",
    "    for filtername in u_filters:\n",
    "        in_filt = np.where(in_data[\"filter\"] == filtername)[0]\n",
    "        time_gaps = in_data[\"time\"][in_filt] - in_data[\"time\"][in_filt][np.newaxis].T\n",
    "        if np.max(time_gaps) >= slope_length:\n",
    "            has_slope = True\n",
    "            break\n",
    "\n",
    "    for filtername1 in u_filters:\n",
    "        for filtername2 in u_filters:\n",
    "            if filtername1 != filtername2:\n",
    "                in_filt1 = np.where(in_data[\"filter\"] == filtername1)[0]\n",
    "                in_filt2 = np.where(in_data[\"filter\"] == filtername2)[0]\n",
    "                time_gaps = (\n",
    "                    in_data[\"time\"][in_filt1] - in_data[\"time\"][in_filt2][np.newaxis].T\n",
    "                )\n",
    "                time_gaps = time_gaps[np.where(time_gaps > 0)]\n",
    "                if time_gaps.size > 0:\n",
    "                    if np.min(time_gaps[np.where(time_gaps > 0)]) <= color_length:\n",
    "                        has_color = True\n",
    "                        break\n",
    "    if has_color & has_slope:\n",
    "        return 1\n",
    "    else:\n",
    "        return 0"
   ]
  },
  {
   "cell_type": "code",
   "execution_count": 5,
   "id": "fe710e5b-f033-462e-8505-a30895daf3a5",
   "metadata": {},
   "outputs": [
    {
     "data": {
      "text/plain": [
       "1"
      ]
     },
     "execution_count": 5,
     "metadata": {},
     "output_type": "execute_result"
    }
   ],
   "source": [
    "good = np.where(data[\"night\"] == 0)\n",
    "color_and_slope(data[good])"
   ]
  },
  {
   "cell_type": "code",
   "execution_count": 6,
   "id": "6042e274-b48b-4111-b6bf-dc83a25b8c1f",
   "metadata": {},
   "outputs": [
    {
     "data": {
      "text/plain": [
       "array([1., 0.])"
      ]
     },
     "execution_count": 6,
     "metadata": {},
     "output_type": "execute_result"
    }
   ],
   "source": [
    "bins = [-.5, 0.5, 1.5]\n",
    "stat, be, bn = binned_statistic(data[\"night\"], data, statistic=color_and_slope, bins=bins)\n",
    "stat"
   ]
  },
  {
   "cell_type": "code",
   "execution_count": null,
   "id": "6457140f-a3d2-427f-b903-4563b2cdc1d8",
   "metadata": {},
   "outputs": [],
   "source": []
  },
  {
   "cell_type": "code",
   "execution_count": null,
   "id": "241357e6-80b1-4ec1-8340-283423170420",
   "metadata": {},
   "outputs": [],
   "source": [
    "\n"
   ]
  },
  {
   "cell_type": "code",
   "execution_count": null,
   "id": "0634b88f-5f63-4567-bb31-2c781015c00b",
   "metadata": {},
   "outputs": [],
   "source": []
  },
  {
   "cell_type": "code",
   "execution_count": null,
   "id": "9c7598fd-a0bc-4ffa-9921-a99f4b2b6525",
   "metadata": {},
   "outputs": [],
   "source": []
  },
  {
   "cell_type": "code",
   "execution_count": null,
   "id": "180fa508-57b6-4337-85a8-1828dbda1fc9",
   "metadata": {},
   "outputs": [],
   "source": []
  },
  {
   "cell_type": "code",
   "execution_count": null,
   "id": "49f6d69a-11af-4ed4-a0e9-1c16d19dfca9",
   "metadata": {},
   "outputs": [],
   "source": []
  },
  {
   "cell_type": "code",
   "execution_count": null,
   "id": "77181421-b4f3-4cc1-be0c-291d30891fa2",
   "metadata": {},
   "outputs": [],
   "source": []
  }
 ],
 "metadata": {
  "kernelspec": {
   "display_name": "Python 3 (ipykernel)",
   "language": "python",
   "name": "python3"
  },
  "language_info": {
   "codemirror_mode": {
    "name": "ipython",
    "version": 3
   },
   "file_extension": ".py",
   "mimetype": "text/x-python",
   "name": "python",
   "nbconvert_exporter": "python",
   "pygments_lexer": "ipython3",
   "version": "3.11.8"
  }
 },
 "nbformat": 4,
 "nbformat_minor": 5
}
