{
 "cells": [
  {
   "cell_type": "code",
   "execution_count": 1,
   "id": "3d77b426-5ceb-4bdc-a013-480f5eb2a608",
   "metadata": {},
   "outputs": [],
   "source": [
    "import numpy as np\n",
    "from scipy.stats import binned_statistic"
   ]
  },
  {
   "cell_type": "code",
   "execution_count": 2,
   "id": "21440988-a0f4-4556-9bca-0c612b7ce2e0",
   "metadata": {},
   "outputs": [],
   "source": [
    "names = [\"time\", \"night\", \"filter\"]\n",
    "types = [float, int, \"<U1\"]\n",
    "data = np.zeros(5, dtype=list(zip(names,types)))\n",
    "\n",
    "data[\"filter\"] = [\"g\", \"r\", \"r\", \"g\", \"r\"]\n",
    "data[\"night\"] = [0,0,0,1,1]\n",
    "data[\"time\"] = [0,.04,.5, 1.2, 1.3]"
   ]
  },
  {
   "cell_type": "code",
   "execution_count": 3,
   "id": "05eec9b7-7b49-4a78-8ee5-974b22f6d416",
   "metadata": {},
   "outputs": [
    {
     "data": {
      "text/plain": [
       "array([(0.  , 0, 'g'), (0.04, 0, 'r'), (0.5 , 0, 'r'), (1.2 , 1, 'g'),\n",
       "       (1.3 , 1, 'r')],\n",
       "      dtype=[('time', '<f8'), ('night', '<i8'), ('filter', '<U1')])"
      ]
     },
     "execution_count": 3,
     "metadata": {},
     "output_type": "execute_result"
    }
   ],
   "source": [
    "data"
   ]
  },
  {
   "cell_type": "code",
   "execution_count": 4,
   "id": "8b1443db-4ac4-4ded-bdf2-8a060d8fcc59",
   "metadata": {},
   "outputs": [],
   "source": [
    "def color_and_slope(in_data, color_length=1./24, slope_length=3./24.):\n",
    "    has_color = False\n",
    "    has_slope = False\n",
    "    u_filters = np.unique(in_data[\"filter\"])\n",
    "    \n",
    "    for filtername in u_filters:\n",
    "        in_filt = np.where(in_data[\"filter\"] == filtername)[0]\n",
    "        time_gaps = in_data[\"time\"][in_filt] - in_data[\"time\"][in_filt][np.newaxis].T\n",
    "        if np.max(time_gaps) >= slope_length:\n",
    "            has_slope = True\n",
    "            break\n",
    "\n",
    "    for filtername1 in u_filters:\n",
    "        for filtername2 in u_filters:\n",
    "            if filtername1 != filtername2:\n",
    "                in_filt1 = np.where(in_data[\"filter\"] == filtername1)[0]\n",
    "                in_filt2 = np.where(in_data[\"filter\"] == filtername2)[0]\n",
    "                time_gaps = (\n",
    "                    in_data[\"time\"][in_filt1] - in_data[\"time\"][in_filt2][np.newaxis].T\n",
    "                )\n",
    "                time_gaps = time_gaps[np.where(time_gaps > 0)]\n",
    "                if time_gaps.size > 0:\n",
    "                    if np.min(time_gaps[np.where(time_gaps > 0)]) <= color_length:\n",
    "                        has_color = True\n",
    "                        break\n",
    "    if has_color & has_slope:\n",
    "        return 1\n",
    "    else:\n",
    "        return 0"
   ]
  },
  {
   "cell_type": "code",
   "execution_count": 5,
   "id": "fe710e5b-f033-462e-8505-a30895daf3a5",
   "metadata": {},
   "outputs": [
    {
     "data": {
      "text/plain": [
       "1"
      ]
     },
     "execution_count": 5,
     "metadata": {},
     "output_type": "execute_result"
    }
   ],
   "source": [
    "good = np.where(data[\"night\"] == 0)\n",
    "color_and_slope(data[good])"
   ]
  },
  {
   "cell_type": "code",
   "execution_count": 6,
   "id": "6042e274-b48b-4111-b6bf-dc83a25b8c1f",
   "metadata": {},
   "outputs": [
    {
     "data": {
      "text/plain": [
       "array([1., 0.])"
      ]
     },
     "execution_count": 6,
     "metadata": {},
     "output_type": "execute_result"
    }
   ],
   "source": [
    "bins = [-.5, 0.5, 1.5]\n",
    "stat, be, bn = binned_statistic(data[\"night\"], data, statistic=color_and_slope, bins=bins)\n",
    "stat"
   ]
  },
  {
   "cell_type": "code",
   "execution_count": 11,
   "id": "6457140f-a3d2-427f-b903-4563b2cdc1d8",
   "metadata": {},
   "outputs": [
    {
     "ename": "AttributeError",
     "evalue": "The number of `values` elements must match the length of each `sample` dimension.",
     "output_type": "error",
     "traceback": [
      "\u001b[0;31m---------------------------------------------------------------------------\u001b[0m",
      "\u001b[0;31mAttributeError\u001b[0m                            Traceback (most recent call last)",
      "Cell \u001b[0;32mIn[11], line 1\u001b[0m\n\u001b[0;32m----> 1\u001b[0m stat, be, bn \u001b[38;5;241m=\u001b[39m \u001b[43mbinned_statistic\u001b[49m\u001b[43m(\u001b[49m\u001b[43mdata\u001b[49m\u001b[43m[\u001b[49m\u001b[38;5;124;43m\"\u001b[39;49m\u001b[38;5;124;43mnight\u001b[39;49m\u001b[38;5;124;43m\"\u001b[39;49m\u001b[43m]\u001b[49m\u001b[43m,\u001b[49m\u001b[43m \u001b[49m\u001b[43mdata\u001b[49m\u001b[43m[\u001b[49m\u001b[38;5;241;43m0\u001b[39;49m\u001b[43m:\u001b[49m\u001b[38;5;241;43m0\u001b[39;49m\u001b[43m]\u001b[49m\u001b[43m,\u001b[49m\u001b[43m \u001b[49m\u001b[43mstatistic\u001b[49m\u001b[38;5;241;43m=\u001b[39;49m\u001b[43mcolor_and_slope\u001b[49m\u001b[43m,\u001b[49m\u001b[43m \u001b[49m\u001b[43mbins\u001b[49m\u001b[38;5;241;43m=\u001b[39;49m\u001b[43mbins\u001b[49m\u001b[43m)\u001b[49m\n",
      "File \u001b[0;32m~/anaconda3/envs/rubin/lib/python3.11/site-packages/scipy/stats/_binned_statistic.py:184\u001b[0m, in \u001b[0;36mbinned_statistic\u001b[0;34m(x, values, statistic, bins, range)\u001b[0m\n\u001b[1;32m    181\u001b[0m     \u001b[38;5;28;01mif\u001b[39;00m \u001b[38;5;28mlen\u001b[39m(\u001b[38;5;28mrange\u001b[39m) \u001b[38;5;241m==\u001b[39m \u001b[38;5;241m2\u001b[39m:\n\u001b[1;32m    182\u001b[0m         \u001b[38;5;28mrange\u001b[39m \u001b[38;5;241m=\u001b[39m [\u001b[38;5;28mrange\u001b[39m]\n\u001b[0;32m--> 184\u001b[0m medians, edges, binnumbers \u001b[38;5;241m=\u001b[39m \u001b[43mbinned_statistic_dd\u001b[49m\u001b[43m(\u001b[49m\n\u001b[1;32m    185\u001b[0m \u001b[43m    \u001b[49m\u001b[43m[\u001b[49m\u001b[43mx\u001b[49m\u001b[43m]\u001b[49m\u001b[43m,\u001b[49m\u001b[43m \u001b[49m\u001b[43mvalues\u001b[49m\u001b[43m,\u001b[49m\u001b[43m \u001b[49m\u001b[43mstatistic\u001b[49m\u001b[43m,\u001b[49m\u001b[43m \u001b[49m\u001b[43mbins\u001b[49m\u001b[43m,\u001b[49m\u001b[43m \u001b[49m\u001b[38;5;28;43mrange\u001b[39;49m\u001b[43m)\u001b[49m\n\u001b[1;32m    187\u001b[0m \u001b[38;5;28;01mreturn\u001b[39;00m BinnedStatisticResult(medians, edges[\u001b[38;5;241m0\u001b[39m], binnumbers)\n",
      "File \u001b[0;32m~/anaconda3/envs/rubin/lib/python3.11/site-packages/scipy/stats/_binned_statistic.py:571\u001b[0m, in \u001b[0;36mbinned_statistic_dd\u001b[0;34m(sample, values, statistic, bins, range, expand_binnumbers, binned_statistic_result)\u001b[0m\n\u001b[1;32m    569\u001b[0m \u001b[38;5;66;03m# Make sure `values` match `sample`\u001b[39;00m\n\u001b[1;32m    570\u001b[0m \u001b[38;5;28;01mif\u001b[39;00m statistic \u001b[38;5;241m!=\u001b[39m \u001b[38;5;124m'\u001b[39m\u001b[38;5;124mcount\u001b[39m\u001b[38;5;124m'\u001b[39m \u001b[38;5;129;01mand\u001b[39;00m Vlen \u001b[38;5;241m!=\u001b[39m Dlen:\n\u001b[0;32m--> 571\u001b[0m     \u001b[38;5;28;01mraise\u001b[39;00m \u001b[38;5;167;01mAttributeError\u001b[39;00m(\u001b[38;5;124m'\u001b[39m\u001b[38;5;124mThe number of `values` elements must match the \u001b[39m\u001b[38;5;124m'\u001b[39m\n\u001b[1;32m    572\u001b[0m                          \u001b[38;5;124m'\u001b[39m\u001b[38;5;124mlength of each `sample` dimension.\u001b[39m\u001b[38;5;124m'\u001b[39m)\n\u001b[1;32m    574\u001b[0m \u001b[38;5;28;01mtry\u001b[39;00m:\n\u001b[1;32m    575\u001b[0m     M \u001b[38;5;241m=\u001b[39m \u001b[38;5;28mlen\u001b[39m(bins)\n",
      "\u001b[0;31mAttributeError\u001b[0m: The number of `values` elements must match the length of each `sample` dimension."
     ]
    }
   ],
   "source": [
    "stat, be, bn = binned_statistic(data[\"night\"], data[0:0], statistic=color_and_slope, bins=bins)"
   ]
  },
  {
   "cell_type": "code",
   "execution_count": 7,
   "id": "241357e6-80b1-4ec1-8340-283423170420",
   "metadata": {},
   "outputs": [
    {
     "ename": "AttributeError",
     "evalue": "The number of `values` elements must match the length of each `sample` dimension.",
     "output_type": "error",
     "traceback": [
      "\u001b[0;31m---------------------------------------------------------------------------\u001b[0m",
      "\u001b[0;31mAttributeError\u001b[0m                            Traceback (most recent call last)",
      "Cell \u001b[0;32mIn[7], line 2\u001b[0m\n\u001b[1;32m      1\u001b[0m \u001b[38;5;66;03m# what happens if values is zero sized\u001b[39;00m\n\u001b[0;32m----> 2\u001b[0m stat, be, bn \u001b[38;5;241m=\u001b[39m \u001b[43mbinned_statistic\u001b[49m\u001b[43m(\u001b[49m\u001b[43mdata\u001b[49m\u001b[43m[\u001b[49m\u001b[38;5;124;43m\"\u001b[39;49m\u001b[38;5;124;43mnight\u001b[39;49m\u001b[38;5;124;43m\"\u001b[39;49m\u001b[43m]\u001b[49m\u001b[43m,\u001b[49m\u001b[43m \u001b[49m\u001b[43mnp\u001b[49m\u001b[38;5;241;43m.\u001b[39;49m\u001b[43marray\u001b[49m\u001b[43m(\u001b[49m\u001b[43m[\u001b[49m\u001b[43m]\u001b[49m\u001b[43m)\u001b[49m\u001b[43m,\u001b[49m\u001b[43m  \u001b[49m\u001b[43mbins\u001b[49m\u001b[38;5;241;43m=\u001b[39;49m\u001b[43mbins\u001b[49m\u001b[43m)\u001b[49m\n",
      "File \u001b[0;32m~/anaconda3/envs/rubin/lib/python3.11/site-packages/scipy/stats/_binned_statistic.py:184\u001b[0m, in \u001b[0;36mbinned_statistic\u001b[0;34m(x, values, statistic, bins, range)\u001b[0m\n\u001b[1;32m    181\u001b[0m     \u001b[38;5;28;01mif\u001b[39;00m \u001b[38;5;28mlen\u001b[39m(\u001b[38;5;28mrange\u001b[39m) \u001b[38;5;241m==\u001b[39m \u001b[38;5;241m2\u001b[39m:\n\u001b[1;32m    182\u001b[0m         \u001b[38;5;28mrange\u001b[39m \u001b[38;5;241m=\u001b[39m [\u001b[38;5;28mrange\u001b[39m]\n\u001b[0;32m--> 184\u001b[0m medians, edges, binnumbers \u001b[38;5;241m=\u001b[39m \u001b[43mbinned_statistic_dd\u001b[49m\u001b[43m(\u001b[49m\n\u001b[1;32m    185\u001b[0m \u001b[43m    \u001b[49m\u001b[43m[\u001b[49m\u001b[43mx\u001b[49m\u001b[43m]\u001b[49m\u001b[43m,\u001b[49m\u001b[43m \u001b[49m\u001b[43mvalues\u001b[49m\u001b[43m,\u001b[49m\u001b[43m \u001b[49m\u001b[43mstatistic\u001b[49m\u001b[43m,\u001b[49m\u001b[43m \u001b[49m\u001b[43mbins\u001b[49m\u001b[43m,\u001b[49m\u001b[43m \u001b[49m\u001b[38;5;28;43mrange\u001b[39;49m\u001b[43m)\u001b[49m\n\u001b[1;32m    187\u001b[0m \u001b[38;5;28;01mreturn\u001b[39;00m BinnedStatisticResult(medians, edges[\u001b[38;5;241m0\u001b[39m], binnumbers)\n",
      "File \u001b[0;32m~/anaconda3/envs/rubin/lib/python3.11/site-packages/scipy/stats/_binned_statistic.py:571\u001b[0m, in \u001b[0;36mbinned_statistic_dd\u001b[0;34m(sample, values, statistic, bins, range, expand_binnumbers, binned_statistic_result)\u001b[0m\n\u001b[1;32m    569\u001b[0m \u001b[38;5;66;03m# Make sure `values` match `sample`\u001b[39;00m\n\u001b[1;32m    570\u001b[0m \u001b[38;5;28;01mif\u001b[39;00m statistic \u001b[38;5;241m!=\u001b[39m \u001b[38;5;124m'\u001b[39m\u001b[38;5;124mcount\u001b[39m\u001b[38;5;124m'\u001b[39m \u001b[38;5;129;01mand\u001b[39;00m Vlen \u001b[38;5;241m!=\u001b[39m Dlen:\n\u001b[0;32m--> 571\u001b[0m     \u001b[38;5;28;01mraise\u001b[39;00m \u001b[38;5;167;01mAttributeError\u001b[39;00m(\u001b[38;5;124m'\u001b[39m\u001b[38;5;124mThe number of `values` elements must match the \u001b[39m\u001b[38;5;124m'\u001b[39m\n\u001b[1;32m    572\u001b[0m                          \u001b[38;5;124m'\u001b[39m\u001b[38;5;124mlength of each `sample` dimension.\u001b[39m\u001b[38;5;124m'\u001b[39m)\n\u001b[1;32m    574\u001b[0m \u001b[38;5;28;01mtry\u001b[39;00m:\n\u001b[1;32m    575\u001b[0m     M \u001b[38;5;241m=\u001b[39m \u001b[38;5;28mlen\u001b[39m(bins)\n",
      "\u001b[0;31mAttributeError\u001b[0m: The number of `values` elements must match the length of each `sample` dimension."
     ]
    }
   ],
   "source": [
    "# what happens if values is zero sized\n",
    "stat, be, bn = binned_statistic(data[\"night\"], np.array([]),  bins=bins)"
   ]
  },
  {
   "cell_type": "code",
   "execution_count": 12,
   "id": "0634b88f-5f63-4567-bb31-2c781015c00b",
   "metadata": {},
   "outputs": [
    {
     "ename": "TypeError",
     "evalue": "'str' object is not callable",
     "output_type": "error",
     "traceback": [
      "\u001b[0;31m---------------------------------------------------------------------------\u001b[0m",
      "\u001b[0;31mTypeError\u001b[0m                                 Traceback (most recent call last)",
      "Cell \u001b[0;32mIn[12], line 2\u001b[0m\n\u001b[1;32m      1\u001b[0m \u001b[38;5;66;03m# What happens with string\u001b[39;00m\n\u001b[0;32m----> 2\u001b[0m stat, be, bn \u001b[38;5;241m=\u001b[39m \u001b[43mbinned_statistic\u001b[49m\u001b[43m(\u001b[49m\u001b[43mdata\u001b[49m\u001b[43m[\u001b[49m\u001b[38;5;124;43m\"\u001b[39;49m\u001b[38;5;124;43mnight\u001b[39;49m\u001b[38;5;124;43m\"\u001b[39;49m\u001b[43m]\u001b[49m\u001b[43m,\u001b[49m\u001b[43m \u001b[49m\u001b[43mdata\u001b[49m\u001b[43m,\u001b[49m\u001b[43m \u001b[49m\u001b[43mstatistic\u001b[49m\u001b[38;5;241;43m=\u001b[39;49m\u001b[38;5;124;43m'\u001b[39;49m\u001b[38;5;124;43mmean\u001b[39;49m\u001b[38;5;124;43m'\u001b[39;49m\u001b[43m,\u001b[49m\u001b[43m \u001b[49m\u001b[43mbins\u001b[49m\u001b[38;5;241;43m=\u001b[39;49m\u001b[43mbins\u001b[49m\u001b[43m)\u001b[49m\n",
      "File \u001b[0;32m~/anaconda3/envs/rubin/lib/python3.11/site-packages/scipy/stats/_binned_statistic.py:184\u001b[0m, in \u001b[0;36mbinned_statistic\u001b[0;34m(x, values, statistic, bins, range)\u001b[0m\n\u001b[1;32m    181\u001b[0m     \u001b[38;5;28;01mif\u001b[39;00m \u001b[38;5;28mlen\u001b[39m(\u001b[38;5;28mrange\u001b[39m) \u001b[38;5;241m==\u001b[39m \u001b[38;5;241m2\u001b[39m:\n\u001b[1;32m    182\u001b[0m         \u001b[38;5;28mrange\u001b[39m \u001b[38;5;241m=\u001b[39m [\u001b[38;5;28mrange\u001b[39m]\n\u001b[0;32m--> 184\u001b[0m medians, edges, binnumbers \u001b[38;5;241m=\u001b[39m \u001b[43mbinned_statistic_dd\u001b[49m\u001b[43m(\u001b[49m\n\u001b[1;32m    185\u001b[0m \u001b[43m    \u001b[49m\u001b[43m[\u001b[49m\u001b[43mx\u001b[49m\u001b[43m]\u001b[49m\u001b[43m,\u001b[49m\u001b[43m \u001b[49m\u001b[43mvalues\u001b[49m\u001b[43m,\u001b[49m\u001b[43m \u001b[49m\u001b[43mstatistic\u001b[49m\u001b[43m,\u001b[49m\u001b[43m \u001b[49m\u001b[43mbins\u001b[49m\u001b[43m,\u001b[49m\u001b[43m \u001b[49m\u001b[38;5;28;43mrange\u001b[39;49m\u001b[43m)\u001b[49m\n\u001b[1;32m    187\u001b[0m \u001b[38;5;28;01mreturn\u001b[39;00m BinnedStatisticResult(medians, edges[\u001b[38;5;241m0\u001b[39m], binnumbers)\n",
      "File \u001b[0;32m~/anaconda3/envs/rubin/lib/python3.11/site-packages/scipy/stats/_binned_statistic.py:595\u001b[0m, in \u001b[0;36mbinned_statistic_dd\u001b[0;34m(sample, values, statistic, bins, range, expand_binnumbers, binned_statistic_result)\u001b[0m\n\u001b[1;32m    592\u001b[0m \u001b[38;5;66;03m# If input is a structured/rec array, call the statistic\u001b[39;00m\n\u001b[1;32m    593\u001b[0m \u001b[38;5;66;03m# to get a guess on the result dtype\u001b[39;00m\n\u001b[1;32m    594\u001b[0m \u001b[38;5;28;01mif\u001b[39;00m values\u001b[38;5;241m.\u001b[39mdtype\u001b[38;5;241m.\u001b[39mnames \u001b[38;5;129;01mis\u001b[39;00m \u001b[38;5;129;01mnot\u001b[39;00m \u001b[38;5;28;01mNone\u001b[39;00m:\n\u001b[0;32m--> 595\u001b[0m     result_type \u001b[38;5;241m=\u001b[39m np\u001b[38;5;241m.\u001b[39mresult_type(\u001b[43mstatistic\u001b[49m\u001b[43m(\u001b[49m\u001b[43mvalues\u001b[49m\u001b[43m[\u001b[49m\u001b[38;5;241;43m0\u001b[39;49m\u001b[43m]\u001b[49m\u001b[43m)\u001b[49m, np\u001b[38;5;241m.\u001b[39mfloat64)\n\u001b[1;32m    596\u001b[0m \u001b[38;5;28;01melse\u001b[39;00m:\n\u001b[1;32m    597\u001b[0m     \u001b[38;5;66;03m# Avoid overflow with double precision. Complex `values` -> `complex128`.\u001b[39;00m\n\u001b[1;32m    598\u001b[0m     result_type \u001b[38;5;241m=\u001b[39m np\u001b[38;5;241m.\u001b[39mresult_type(values, np\u001b[38;5;241m.\u001b[39mfloat64)\n",
      "\u001b[0;31mTypeError\u001b[0m: 'str' object is not callable"
     ]
    }
   ],
   "source": [
    "# What happens with string\n",
    "stat, be, bn = binned_statistic(data[\"night\"], data, statistic='mean', bins=bins)\n"
   ]
  },
  {
   "cell_type": "code",
   "execution_count": 8,
   "id": "9c7598fd-a0bc-4ffa-9921-a99f4b2b6525",
   "metadata": {},
   "outputs": [],
   "source": [
    "bins = [-.5, 0.5, 1.5]\n",
    "stat, be, bn = binned_statistic(data[\"night\"], data['night'], statistic='mean', bins=bins)\n"
   ]
  },
  {
   "cell_type": "code",
   "execution_count": 9,
   "id": "180fa508-57b6-4337-85a8-1828dbda1fc9",
   "metadata": {},
   "outputs": [],
   "source": [
    "from scipy._lib._util import check_random_state\n",
    "from numpy.testing import assert_allclose\n",
    "class TestB:\n",
    "    def __init__(self):\n",
    "        rng = check_random_state(9865)\n",
    "        self.x = rng.uniform(size=100)\n",
    "        self.v = rng.uniform(size=100)\n",
    "\n",
    "    def test_structured(self):\n",
    "        # Test with a structured array\n",
    "        names = [\"x\", \"v\", \"y\"]\n",
    "        types = [float, float, float]\n",
    "        struc_array = np.empty(self.x.size, dtype=list(zip(names, types)))\n",
    "        struc_array[\"x\"] = self.x\n",
    "        struc_array[\"v\"] = self.v\n",
    "    \n",
    "        def test_func(data):\n",
    "            return np.sum(data[\"x\"] + data[\"v\"])\n",
    "        bins = np.linspace(0, 1, 11)\n",
    "        stat, edges, bc = binned_statistic(self.x, struc_array, bins=bins,\n",
    "                                           statistic=test_func)\n",
    "        stat2, edges2, bc = binned_statistic(self.x, struc_array[\"x\"]+struc_array[\"v\"],\n",
    "                                             bins=bins,\n",
    "                                             statistic=np.sum)\n",
    "        assert_allclose(stat, stat2)"
   ]
  },
  {
   "cell_type": "code",
   "execution_count": 10,
   "id": "49f6d69a-11af-4ed4-a0e9-1c16d19dfca9",
   "metadata": {},
   "outputs": [],
   "source": [
    "tb = TestB()\n",
    "tb.test_structured()"
   ]
  },
  {
   "cell_type": "code",
   "execution_count": null,
   "id": "77181421-b4f3-4cc1-be0c-291d30891fa2",
   "metadata": {},
   "outputs": [],
   "source": []
  }
 ],
 "metadata": {
  "kernelspec": {
   "display_name": "Python 3 (ipykernel)",
   "language": "python",
   "name": "python3"
  },
  "language_info": {
   "codemirror_mode": {
    "name": "ipython",
    "version": 3
   },
   "file_extension": ".py",
   "mimetype": "text/x-python",
   "name": "python",
   "nbconvert_exporter": "python",
   "pygments_lexer": "ipython3",
   "version": "3.11.8"
  }
 },
 "nbformat": 4,
 "nbformat_minor": 5
}
