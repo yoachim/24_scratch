{
 "cells": [
  {
   "cell_type": "code",
   "execution_count": 1,
   "id": "39c0c2bb-b65e-4e77-82af-9922e0e6cbfc",
   "metadata": {},
   "outputs": [],
   "source": [
    "# Let's say we want to combine the results of several different metrics "
   ]
  },
  {
   "cell_type": "code",
   "execution_count": 2,
   "id": "98c3c954-3b7b-4349-9e29-4ef66a923b96",
   "metadata": {},
   "outputs": [],
   "source": [
    "import os\n",
    "import numpy as np\n",
    "import pandas as pd\n",
    "import matplotlib.pyplot as plt\n",
    "%matplotlib inline\n",
    "import healpy as hp\n",
    "\n",
    "import rubin_sim.maf as maf\n",
    "from rubin_sim.data import get_baseline\n"
   ]
  },
  {
   "cell_type": "code",
   "execution_count": 3,
   "id": "6235787d-1ea3-42c8-bcc5-675c559a3e79",
   "metadata": {},
   "outputs": [],
   "source": [
    "baseline_file = get_baseline()\n",
    "name = os.path.basename(baseline_file).replace('.db','')\n",
    "out_dir = 'temp'\n",
    "results_db = maf.db.ResultsDb(out_dir=out_dir)\n"
   ]
  },
  {
   "cell_type": "code",
   "execution_count": 5,
   "id": "ee845c22-4fbd-4c33-82d7-002f7145e8db",
   "metadata": {},
   "outputs": [],
   "source": [
    "class MyNestedMetric(maf.metrics.BaseMetric):\n",
    "    \"\"\"An example of writing a nested metirc\n",
    "    \"\"\"\n",
    "    def __init__(self,  m5_col=\"fiveSigmaDepth\", filter_col=\"filter\", \n",
    "                 exptime_col=\"visitExposureTime\", extinction_cut=0.2,\n",
    "                 depth_cut=22.9, metric_name=\"new_nested_FoM\",\n",
    "                 units=\"rods/hogshead\", badval=np.nan, **kwargs):\n",
    "        # XXXprobably want to swap that depth_cut to a dict with different\n",
    "        # values per filter\n",
    "\n",
    "        maps = [\"DustMap\"]\n",
    "        self.m5_col = m5_col\n",
    "        self.filter_col = filter_col\n",
    "        self.exptime_col = exptime_col\n",
    "\n",
    "        cols = [self.m5_col, self.filter_col, self.exptime_col]\n",
    "        super().__init__(cols, metric_name=metric_name, units=units, maps=maps, badval=badval, **kwargs)\n",
    "        self.riz_detection_metric = maf.RIZDetectionCoaddExposureTime(ebvlim=extinction_cut)\n",
    "\n",
    "        # setting n_filters to 0 for all these\n",
    "        self.exgalm5_metric_r = maf.ExgalM5WithCuts(m5_col=m5_col, filter_col=filter_col, extinction_cut=extinction_cut,\n",
    "                                                 depth_cut=depth_cut, lsst_filter=\"r\", badval=badval, n_filters=0)\n",
    "        self.exgalm5_metric_i = maf.ExgalM5WithCuts(m5_col=m5_col, filter_col=filter_col, extinction_cut=extinction_cut,\n",
    "                                                 depth_cut=depth_cut, lsst_filter=\"i\", badval=badval, n_filters=0)\n",
    "        self.exgalm5_metric_z = maf.ExgalM5WithCuts(m5_col=m5_col, filter_col=filter_col, extinction_cut=extinction_cut,\n",
    "                                                 depth_cut=depth_cut, lsst_filter=\"z\", badval=badval, n_filters=0)\n",
    "\n",
    "        # magic line so MAF knows we're returning something complicated\n",
    "        self.metric_dtype = \"object\"\n",
    "\n",
    "    def run(self, data_slice, slice_point):\n",
    "\n",
    "        # set up array to hold the results\n",
    "        names = ['exgal_m5, r', 'exgal_m5, i', 'exgal_m5, z', \"riz_detection\"]\n",
    "        types = [float]*4\n",
    "        result = np.zeros(1, dtype=list(zip(names, types)))\n",
    "        \n",
    "        result['exgal_m5, r'] = self.exgalm5_metric_r.run(data_slice, slice_point)\n",
    "\n",
    "        result['exgal_m5, i'] = self.exgalm5_metric_i.run(data_slice, slice_point)\n",
    "\n",
    "        result['exgal_m5, z'] = self.exgalm5_metric_z.run(data_slice, slice_point)\n",
    "\n",
    "        result['riz_detection'] = self.riz_detection_metric.run(data_slice, slice_point)\n",
    "\n",
    "        return result\n",
    "        "
   ]
  },
  {
   "cell_type": "code",
   "execution_count": 6,
   "id": "b8b356f1-ffe6-429d-a285-2b80ddd4a7ef",
   "metadata": {},
   "outputs": [],
   "source": [
    "class MyNestedSummary(maf.metrics.BaseMetric):\n",
    "    \"\"\"To be paired with MyNestedMetric\n",
    "    \"\"\"\n",
    "    def run(self, data_slice, slice_point=None):\n",
    "        # concatenate everything down, so we have an \n",
    "        # array with proper named columns\n",
    "        data = np.concatenate(data_slice[\"metricdata\"])\n",
    "\n",
    "        # Do some meaningful combination of all the data\n",
    "        # Note there's nothing preventing one from putting this line in\n",
    "        # the main metric. Unless you have some total area from one of the\n",
    "        # metrics or something, it can go above. Then probably a \n",
    "        # very simple summary metric would suffice.\n",
    "        result = data[\"exgal_m5, r\"] + 2.*data[\"exgal_m5, i\"]/data['riz_detection']\n",
    "\n",
    "        # Since this is a summary metric, need to reduce down to a single number\n",
    "        result = np.nanmean(result)\n",
    "\n",
    "        return result\n",
    "        "
   ]
  },
  {
   "cell_type": "code",
   "execution_count": null,
   "id": "a80e03a9-b0ee-4abe-b0df-1b0ab87f9d87",
   "metadata": {},
   "outputs": [],
   "source": []
  },
  {
   "cell_type": "code",
   "execution_count": 7,
   "id": "9fb5f9f3-274c-4765-950d-d3b4967f3a8e",
   "metadata": {},
   "outputs": [
    {
     "name": "stdout",
     "output_type": "stream",
     "text": [
      "Healpix slicer using NSIDE=128, approximate resolution 27.483891 arcminutes\n"
     ]
    }
   ],
   "source": [
    "bundle_list = []\n",
    "metric = MyNestedMetric()\n",
    "sql = 'note not like \"%DD%\" and note not like \"%twi%\"'\n",
    "slicer = maf.slicers.HealpixSlicer(use_cache=False)\n",
    "summary_metrics = [MyNestedSummary()]\n",
    "\n",
    "bundle_list.append(maf.MetricBundle(metric, slicer, sql, run_name=name, summary_metrics=summary_metrics))\n",
    "\n"
   ]
  },
  {
   "cell_type": "code",
   "execution_count": 8,
   "id": "9e676c76-cc0e-4dcb-973f-3fcebe66a10b",
   "metadata": {},
   "outputs": [],
   "source": [
    "bd = maf.metricBundles.make_bundles_dict_from_list(bundle_list)\n",
    "bg = maf.metricBundles.MetricBundleGroup(bd, baseline_file, out_dir=out_dir, results_db=results_db)\n",
    "bg.run_all()"
   ]
  },
  {
   "cell_type": "code",
   "execution_count": 9,
   "id": "bb777f7d-117f-4752-9bb7-f9acabb0fddb",
   "metadata": {},
   "outputs": [
    {
     "data": {
      "text/plain": [
       "{'MyNestedSummary': 26.63092802904755}"
      ]
     },
     "execution_count": 9,
     "metadata": {},
     "output_type": "execute_result"
    }
   ],
   "source": [
    "bundle_list[0].summary_values"
   ]
  },
  {
   "cell_type": "code",
   "execution_count": null,
   "id": "e03eba35-93be-4b54-9c21-625b9459756f",
   "metadata": {},
   "outputs": [],
   "source": []
  },
  {
   "cell_type": "code",
   "execution_count": null,
   "id": "51ed96e8-a897-4bd3-b8b7-46b30abc1918",
   "metadata": {},
   "outputs": [],
   "source": []
  },
  {
   "cell_type": "code",
   "execution_count": null,
   "id": "06e477cf-0822-486a-ac23-fe133fefe1f1",
   "metadata": {},
   "outputs": [],
   "source": []
  }
 ],
 "metadata": {
  "kernelspec": {
   "display_name": "Python 3 (ipykernel)",
   "language": "python",
   "name": "python3"
  },
  "language_info": {
   "codemirror_mode": {
    "name": "ipython",
    "version": 3
   },
   "file_extension": ".py",
   "mimetype": "text/x-python",
   "name": "python",
   "nbconvert_exporter": "python",
   "pygments_lexer": "ipython3",
   "version": "3.11.6"
  }
 },
 "nbformat": 4,
 "nbformat_minor": 5
}
