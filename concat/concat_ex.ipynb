{
 "cells": [
  {
   "cell_type": "code",
   "execution_count": 9,
   "id": "5113d73d-6422-4dbf-934e-cff6fd93acf3",
   "metadata": {},
   "outputs": [
    {
     "name": "stdout",
     "output_type": "stream",
     "text": [
      "<class '__main__.BreakfastArray'> <class 'numpy.ndarray'>\n"
     ]
    }
   ],
   "source": [
    "import numpy as np\n",
    "\n",
    "class BreakfastArray(np.ndarray):\n",
    "    def __new__(cls, *args, n=1, **kwargs):\n",
    "        dtypes=[(\"waffles\", int), (\"eggs\", int)]\n",
    "        obj = np.zeros(n, dtype=dtypes).view(cls)\n",
    "        return obj\n",
    "#    def __array_finalize__(self, obj):\n",
    "#        if obj is None: return\n",
    "#        obj.view(self.__class__)\n",
    "    \n",
    "\n",
    "b1 = BreakfastArray(n=1)\n",
    "b2 = BreakfastArray(n=2)\n",
    "con_b1b2 = np.concatenate([b1, b2])\n",
    "\n",
    "print(b1.__class__, con_b1b2.__class__)"
   ]
  },
  {
   "cell_type": "code",
   "execution_count": 10,
   "id": "4d322419-f0a4-47e3-be48-b94336dec253",
   "metadata": {},
   "outputs": [
    {
     "data": {
      "text/plain": [
       "BreakfastArray([(0, 0)], dtype=[('waffles', '<i8'), ('eggs', '<i8')])"
      ]
     },
     "execution_count": 10,
     "metadata": {},
     "output_type": "execute_result"
    }
   ],
   "source": [
    "b2[1:]"
   ]
  },
  {
   "cell_type": "code",
   "execution_count": 11,
   "id": "130c74e8-2477-4eb1-8412-f203464395a1",
   "metadata": {},
   "outputs": [
    {
     "data": {
      "text/plain": [
       "BreakfastArray([(0, 0), (0, 0), (0, 0)],\n",
       "               dtype=[('waffles', '<i8'), ('eggs', '<i8')])"
      ]
     },
     "execution_count": 11,
     "metadata": {},
     "output_type": "execute_result"
    }
   ],
   "source": [
    "con_b1b2.view(BreakfastArray)"
   ]
  },
  {
   "cell_type": "code",
   "execution_count": 15,
   "id": "8f6c1896-0eba-4082-bc6b-e075dcd7cde6",
   "metadata": {},
   "outputs": [
    {
     "name": "stdout",
     "output_type": "stream",
     "text": [
      "<class '__main__.BreakfastArray'> <class 'numpy.ndarray'>\n"
     ]
    }
   ],
   "source": [
    "class BreakfastArray(np.ndarray):\n",
    "    def __new__(cls, *args, n=1, **kwargs,):\n",
    "        dtypes=[(\"waffles\", int), (\"eggs\", int)]\n",
    "        obj = np.zeros(n, dtype=dtypes).view(cls)\n",
    "        return obj\n",
    "    def __array_finalize__(self, obj):\n",
    "        if obj is None: return\n",
    "        \n",
    "    \n",
    "\n",
    "b1 = BreakfastArray(n=1)\n",
    "b2 = BreakfastArray(n=2)\n",
    "con_b1b2 = np.concatenate([b1, b2])\n",
    "print(b1.__class__, con_b1b2.__class__)"
   ]
  },
  {
   "cell_type": "code",
   "execution_count": 16,
   "id": "398a03e3-e9b6-4927-aad0-40baf9da916a",
   "metadata": {},
   "outputs": [
    {
     "data": {
      "text/plain": [
       "numpy.ndarray"
      ]
     },
     "execution_count": 16,
     "metadata": {},
     "output_type": "execute_result"
    }
   ],
   "source": [
    "class RealisticInfoArray(np.ndarray):\n",
    "\n",
    "    def __new__(cls, input_array, info=None):\n",
    "        # Input array is an already formed ndarray instance\n",
    "        # We first cast to be our class type\n",
    "        obj = np.asarray(input_array).view(cls)\n",
    "        # add the new attribute to the created instance\n",
    "        obj.info = info\n",
    "        # Finally, we must return the newly created object:\n",
    "        return obj\n",
    "\n",
    "    def __array_finalize__(self, obj):\n",
    "        # see InfoArray.__array_finalize__ for comments\n",
    "        if obj is None: return\n",
    "        self.info = getattr(obj, 'info', None)\n",
    "\n",
    "ack1 = RealisticInfoArray(np.zeros(1))\n",
    "ack2 = RealisticInfoArray(np.zeros(2))\n",
    "\n",
    "con = np.concatenate([ack1, ack2])\n",
    "con.__class__"
   ]
  },
  {
   "cell_type": "code",
   "execution_count": null,
   "id": "5827f087-eb64-44db-84b2-2f15b6ce0124",
   "metadata": {},
   "outputs": [],
   "source": []
  }
 ],
 "metadata": {
  "kernelspec": {
   "display_name": "Python 3 (ipykernel)",
   "language": "python",
   "name": "python3"
  },
  "language_info": {
   "codemirror_mode": {
    "name": "ipython",
    "version": 3
   },
   "file_extension": ".py",
   "mimetype": "text/x-python",
   "name": "python",
   "nbconvert_exporter": "python",
   "pygments_lexer": "ipython3",
   "version": "3.11.8"
  }
 },
 "nbformat": 4,
 "nbformat_minor": 5
}
