{
 "cells": [
  {
   "cell_type": "code",
   "execution_count": 1,
   "id": "e803c1bb-1069-44da-874d-ec22ceb6d2b4",
   "metadata": {},
   "outputs": [],
   "source": [
    "from rubin_scheduler.scheduler.model_observatory import ModelObservatory\n",
    "from rubin_scheduler.scheduler.surveys import BaseSurvey, BlobSurvey\n",
    "from rubin_scheduler.scheduler.utils import ObservationArray, SkyAreaGenerator, Footprint\n",
    "from rubin_scheduler.scheduler.schedulers import CoreScheduler, SimpleFilterSched\n",
    "from rubin_scheduler.scheduler import sim_runner\n",
    "from rubin_scheduler.scheduler.detailers import BaseDetailer\n",
    "from rubin_scheduler.utils import (_approx_ra_dec2_alt_az, _approx_altaz2pa, \n",
    "                                   rotation_converter, SysEngVals, _approx_alt_az2_ra_dec,\n",
    "                                  _ra_dec2_hpid)\n",
    "import rubin_scheduler.scheduler.basis_functions as bf\n",
    "\n",
    "import numpy as np\n",
    "import healpy as hp\n",
    "import matplotlib.pylab as plt\n",
    "%matplotlib inline\n",
    "\n",
    "import pandas as pd\n"
   ]
  },
  {
   "cell_type": "code",
   "execution_count": 2,
   "id": "108e0cd4-1b1b-4606-827d-1cbc30f7cf66",
   "metadata": {},
   "outputs": [],
   "source": [
    "# Load up a model observatory\n",
    "nside=32\n",
    "mo = ModelObservatory(downtimes=\"ideal\")"
   ]
  },
  {
   "cell_type": "code",
   "execution_count": 3,
   "id": "e1c983f7-6236-42d9-94fc-505322981824",
   "metadata": {},
   "outputs": [],
   "source": [
    "# generate a survey footprint\n",
    "sag = SkyAreaGenerator()\n",
    "sky_maps, labels = sag.return_maps()\n",
    "\n",
    "fp = Footprint(mo.mjd_start, mo.sun_ra_start)\n",
    "fp.set_footprint('r', sky_maps['r'])\n"
   ]
  },
  {
   "cell_type": "code",
   "execution_count": 4,
   "id": "adf6e0f7-0900-43a1-8dc6-d39c3276c1df",
   "metadata": {},
   "outputs": [],
   "source": [
    "# Make a simple survey that executes blobs in r band\n",
    "footprint_weight = 1.\n",
    "m5_weight = 0.5\n",
    "\n",
    "# Observe in the footprint\n",
    "red_fp_basis = bf.FootprintBasisFunction(filtername='r', footprint=fp, nside=nside)\n",
    "# Observe where the depth is reasonable\n",
    "m5_basis_r = bf.M5DiffBasisFunction(filtername='r', nside=nside)\n",
    "# Stop observing in twilight time\n",
    "twilight_limit = bf.TimeToTwilightBasisFunction()\n",
    "# Avoid high sun altitudes\n",
    "sun_alt_limit = bf.SunAltLimitBasisFunction(alt_limit=-16.)\n",
    "# Avoid the altitude limits\n",
    "shadow_mask = bf.AltAzShadowMaskBasisFunction()\n",
    "# Put it all together in a survey object\n",
    "red_survey = BlobSurvey([red_fp_basis, m5_basis_r, twilight_limit, shadow_mask, sun_alt_limit],\n",
    "                        [footprint_weight, m5_weight, 0., 0., 0.],\n",
    "                        filtername1='r', survey_name='r_blob')\n",
    "\n"
   ]
  },
  {
   "cell_type": "code",
   "execution_count": 5,
   "id": "eb25e331-7779-4e2a-bdef-831fd97ca07c",
   "metadata": {},
   "outputs": [],
   "source": [
    "# Class to execute in twilight and take flats\n",
    "class InTwilightFlatsSurvey(BaseSurvey):\n",
    "    def __init__(self, basis_functions,  altitude=80., az_rel_sun=180., **kwargs,):\n",
    "        super().__init__(basis_functions, **kwargs)\n",
    "        self.altitude = np.radians(altitude)\n",
    "        self.az_rel_sun = np.radians(az_rel_sun)\n",
    "        \n",
    "    def generate_observations_rough(self, conditions):\n",
    "        \n",
    "        if not self.reward_checked:\n",
    "            self.reward = self.calc_reward_function(conditions)\n",
    "        obs = ObservationArray()\n",
    "\n",
    "        # Find good ra,dec given the latest conditions\n",
    "        az = (conditions.sun_az + self.az_rel_sun) % (2 * np.pi)\n",
    "        ra,dec = _approx_alt_az2_ra_dec([self.altitude], [az], conditions.site.latitude_rad, conditions.site.longitude_rad, conditions.mjd)\n",
    "        \n",
    "        obs[\"RA\"] = ra\n",
    "        obs[\"dec\"] = dec\n",
    "        obs[\"exptime\"] = 30.  # Place holder exposure time, expect to clobber later\n",
    "        obs[\"filter\"] = \"r\"  # Can think about filter distribution later\n",
    "\n",
    "        return [obs]\n",
    "        "
   ]
  },
  {
   "cell_type": "code",
   "execution_count": 6,
   "id": "ac5b8eb2-237d-410e-82d8-2015ad588436",
   "metadata": {},
   "outputs": [],
   "source": [
    "class FlatExptimeDetailer(BaseDetailer):\n",
    "    \"\"\"Adjust exposure time to try to reach a target number of background counts\n",
    "    \"\"\"\n",
    "    def __init__(self, sky_counts_desired=10000, max_exptime=120, zeropoints=None, pix_scale=0.2):\n",
    "        super().__init__()\n",
    "        self.sky_counts_desired = sky_counts_desired\n",
    "        self.max_exptime = max_exptime\n",
    "        self.pix_scale = pix_scale\n",
    "        if zeropoints is None:\n",
    "            syv = SysEngVals()\n",
    "            self.zeropoints = syv.zp_t\n",
    "        else:\n",
    "            self.zeropoints = zeropoints\n",
    "    \n",
    "    def __call__(self, observation_list, conditions):\n",
    "        for obs in observation_list:\n",
    "            # look up the closest HEALpix ID\n",
    "            hpid = _ra_dec2_hpid(conditions.nside, obs[\"RA\"], obs[\"dec\"])\n",
    "            mu = conditions.skybrightness[obs[\"filter\"][0]][hpid]\n",
    "            # XXX--triple check here. The zeropoints from SysEngVals\n",
    "            # might already be assuming a 30s exposure. \n",
    "            counts = self.pix_scale**2 * 10.**((self.zeropoints[obs[\"filter\"][0]] - mu)/2.5)\n",
    "            time_needed = np.max(self.sky_counts_desired / counts)\n",
    "            obs[\"exptime\"] = np.min([time_needed, self.max_exptime])\n",
    "        \n",
    "        return observation_list"
   ]
  },
  {
   "cell_type": "code",
   "execution_count": 7,
   "id": "611ba60c-c9f1-4749-b433-253069e2f131",
   "metadata": {},
   "outputs": [],
   "source": [
    "\n",
    "detailers = [FlatExptimeDetailer()]\n",
    "flat_survey = InTwilightFlatsSurvey([], detailers=detailers)"
   ]
  },
  {
   "cell_type": "code",
   "execution_count": 8,
   "id": "32cc4b62-f1db-446a-be70-6ab59f9fe6b8",
   "metadata": {},
   "outputs": [],
   "source": [
    "scheduler = CoreScheduler([[red_survey], [flat_survey]], nside=nside)"
   ]
  },
  {
   "cell_type": "code",
   "execution_count": 9,
   "id": "b5b72099-0c71-465e-a4fa-d01a6e4b6985",
   "metadata": {},
   "outputs": [
    {
     "name": "stderr",
     "output_type": "stream",
     "text": [
      "/Users/yoachim/git_repos/rubin_scheduler/rubin_scheduler/scheduler/model_observatory/kinem_model.py:755: RuntimeWarning: divide by zero encountered in divide\n",
      "  (observation[\"exptime\"] / observation[\"nexp\"] + self.readtime * (observation[\"nexp\"] - 1))\n",
      "/Users/yoachim/git_repos/rubin_scheduler/rubin_scheduler/scheduler/model_observatory/kinem_model.py:743: RuntimeWarning: divide by zero encountered in divide\n",
      "  delta_t = observation[\"exptime\"] / observation[\"nexp\"]\n",
      "/Users/yoachim/git_repos/rubin_scheduler/rubin_scheduler/scheduler/model_observatory/model_observatory.py:524: RuntimeWarning: divide by zero encountered in divide\n",
      "  observation[\"exptime\"] / observation[\"nexp\"],\n"
     ]
    },
    {
     "name": "stdout",
     "output_type": "stream",
     "text": [
      "progress = 1.40%"
     ]
    },
    {
     "name": "stderr",
     "output_type": "stream",
     "text": [
      "/Users/yoachim/git_repos/rubin_scheduler/rubin_scheduler/utils/healpy_utils.py:339: RuntimeWarning: All-NaN slice encountered\n",
      "  indx = np.where(in_map[current_neighbors] == np.nanmax(in_map[current_neighbors]))[0]\n",
      "/Users/yoachim/git_repos/rubin_scheduler/rubin_scheduler/utils/healpy_utils.py:342: UserWarning: Can not connect to any more pixels.\n",
      "  warnings.warn(\"Can not connect to any more pixels.\")\n"
     ]
    },
    {
     "name": "stdout",
     "output_type": "stream",
     "text": [
      "progress = 33.35%"
     ]
    },
    {
     "name": "stderr",
     "output_type": "stream",
     "text": [
      "/Users/yoachim/git_repos/rubin_scheduler/rubin_scheduler/skybrightness_pre/sky_model_pre.py:352: UserWarning: Requested MJD between sunrise and sunset, returning closest maps\n",
      "  warnings.warn(\"Requested MJD between sunrise and sunset, returning closest maps\")\n"
     ]
    },
    {
     "name": "stdout",
     "output_type": "stream",
     "text": [
      "progress = 100.07%Skipped 0 observations\n",
      "Flushed 0 observations from queue for being stale\n",
      "Completed 1402 observations\n",
      "ran in 0 min = 0.0 hours\n"
     ]
    }
   ],
   "source": [
    "# Simulate running the scheduler in this configuration for a few days\n",
    "mo, scheduler, observations = sim_runner(mo, scheduler, sim_duration=3.0, verbose=True)\n"
   ]
  },
  {
   "cell_type": "code",
   "execution_count": 10,
   "id": "b4218edd-5aa1-4396-9285-7c5f202d6626",
   "metadata": {},
   "outputs": [
    {
     "data": {
      "text/plain": [
       "ObservationArray([(   0, 5.9341817 , -0.44801498, 60980.00089649, 0.,  40.99873428, 'r', 2.62654662, 0., 0, 1.01542661, 0.97896171, 1.18992172, 1.03011566, 18.91556575, 0, 43.48426793,  40.99873428, 0.15882974, inf, 1.39061373, 1.14140062, 4.1978007 , -2.08438651, 0.,  1.17998259, -0.2119851 , '', '', '', 0, 22.00737099, 0.00145585, 0., 0.41668499, 4.27814565, 3.77138619, -0.24996749, 5.91222818, -0.16783961, 0.28094872, 1.9607675 , 65.72719529, 1.13841547, '', ''),\n",
       "                  (   1, 5.93999762, -0.44746821, 60980.00141658, 0.,  42.31439979, 'r', 2.62312922, 0., 0, 1.01542661, 0.97896171, 1.18992172, 1.03011566, 18.9338063 , 0,  3.93626399,  42.31439979, 0.00527105, inf, 1.3883522 , 1.14495788, 4.20020876, -2.08199389, 0.,  1.18099019, -0.21456703, '', '', '', 0, 22.0198871 , 0.00726587, 0., 0.40927222, 4.27621742, 3.77139506, -0.24997041, 5.91229311, -0.16778402, 0.2809172 , 1.96558292, 65.72946016, 1.1509492 , '', ''),\n",
       "                  (   2, 5.9431802 , -0.4471685 , 60980.00194989, 0.,  43.05246592, 'r', 2.62125346, 0., 0, 1.01542661, 0.97896171, 1.18992172, 1.03011566, 18.95251097, 0,  3.76396727,  43.05246592, 0.00288506, inf, 1.38834611, 1.14306296, 4.19842324, -2.08378772, 0.,  1.18200138, -0.21721126, '', '', '', 0, 22.03272169, 0.0073478 , 0., 0.40161625, 4.27423633, 3.77140416, -0.2499734 , 5.91235968, -0.16772699, 0.28096819, 1.96821158, 65.73178266, 1.15775862, '', ''),\n",
       "                  ...,\n",
       "                  (1399, 1.60604747, -0.44340318, 60981.36335905, 0., 120.        , 'r', 0.54406332, 0., 0, 1.01542661, 0.4787683 , 0.71017325, 0.63576241, 20.87765617, 1,  4.06353461, 120.        , 0.0077276 , inf, 1.40171594, 5.1951047 , 2.13109434,  2.12835346, 0., -0.24917202, -0.23715775, '', '', '', 0,  6.79599957, 0.01349382, 0., 4.55497784, 2.03377501, 3.79467824, -0.25754639, 6.19129361, -0.00993052, 1.68129367, 1.97873917, 75.05347292, 0.41908097, '', ''),\n",
       "                  (1400, 1.6145612 , -0.44420363, 60981.36479493, 0., 120.        , 'r', 0.53899468, 0., 0, 1.01542661, 0.51785042, 0.74366704, 0.66329431, 20.740282  , 1,  4.05985578, 120.        , 0.00773051, inf, 1.40174015, 5.18944109, 2.12574148,  2.12299996, 0., -0.25669706, -0.23014716, '', '', '', 0,  6.83055499, 0.01320895, 0., 4.55040112, 2.02839675, 3.79470285, -0.25755431, 6.19164736, -0.0097595 , 1.68866902, 1.97173259, 75.06515065, 0.43720431, '', ''),\n",
       "                  (1401, 1.62308153, -0.44500259, 60981.36623077, 0., 120.        , 'r', 0.53394926, 0., 0, 1.01542661, 0.51785042, 0.74366704, 0.66329431, 20.53480184, 1,  4.05617089, 120.        , 0.00773337, inf, 1.401764  , 5.18380358, 2.12041174,  2.11766976, 0., -0.26422344, -0.22311257, '', '', '', 0,  6.86510939, 0.01292417, 0., 4.54579052, 2.02304468, 3.79472745, -0.25756223, 6.19200226, -0.00958852, 1.6960422 , 1.96470811, 75.07686198, 0.45514578, '', '')],\n",
       "                 dtype=[('ID', '<i8'), ('RA', '<f8'), ('dec', '<f8'), ('mjd', '<f8'), ('flush_by_mjd', '<f8'), ('exptime', '<f8'), ('filter', '<U40'), ('rotSkyPos', '<f8'), ('rotSkyPos_desired', '<f8'), ('nexp', '<i8'), ('airmass', '<f8'), ('FWHM_500', '<f8'), ('FWHMeff', '<f8'), ('FWHM_geometric', '<f8'), ('skybrightness', '<f8'), ('night', '<i8'), ('slewtime', '<f8'), ('visittime', '<f8'), ('slewdist', '<f8'), ('fivesigmadepth', '<f8'), ('alt', '<f8'), ('az', '<f8'), ('pa', '<f8'), ('pseudo_pa', '<f8'), ('clouds', '<f8'), ('moonAlt', '<f8'), ('sunAlt', '<f8'), ('note', '<U40'), ('scheduler_note', '<U40'), ('target_name', '<U40'), ('block_id', '<i8'), ('lmst', '<f8'), ('rotTelPos', '<f8'), ('rotTelPos_backup', '<f8'), ('moonAz', '<f8'), ('sunAz', '<f8'), ('sunRA', '<f8'), ('sunDec', '<f8'), ('moonRA', '<f8'), ('moonDec', '<f8'), ('moonDist', '<f8'), ('solarElong', '<f8'), ('moonPhase', '<f8'), ('cummTelAz', '<f8'), ('observation_reason', '<U40'), ('science_program', '<U40')])"
      ]
     },
     "execution_count": 10,
     "metadata": {},
     "output_type": "execute_result"
    }
   ],
   "source": [
    "# Can see what observations got executed\n",
    "observations"
   ]
  },
  {
   "cell_type": "code",
   "execution_count": 11,
   "id": "72ace0db-d800-4063-b0d5-0711899fcd3f",
   "metadata": {},
   "outputs": [
    {
     "data": {
      "image/png": "[encoded data removed]",
      "text/plain": [
       "<Figure size 640x480 with 2 Axes>"
      ]
     },
     "metadata": {},
     "output_type": "display_data"
    }
   ],
   "source": [
    "plt.scatter(observations[\"mjd\"], observations[\"exptime\"], c=np.degrees(observations[\"sunAlt\"]))\n",
    "cb = plt.colorbar()\n",
    "plt.xlabel('MJD')\n",
    "plt.ylabel('Exposure Time (s)')\n",
    "cb.set_label('Sun Alt (deg)')"
   ]
  },
  {
   "cell_type": "code",
   "execution_count": null,
   "id": "aa0e9e0a-a3cb-4418-9ffd-e5e7dc3d28c4",
   "metadata": {},
   "outputs": [],
   "source": []
  }
 ],
 "metadata": {
  "kernelspec": {
   "display_name": "Python 3 (ipykernel)",
   "language": "python",
   "name": "python3"
  },
  "language_info": {
   "codemirror_mode": {
    "name": "ipython",
    "version": 3
   },
   "file_extension": ".py",
   "mimetype": "text/x-python",
   "name": "python",
   "nbconvert_exporter": "python",
   "pygments_lexer": "ipython3",
   "version": "3.11.8"
  }
 },
 "nbformat": 4,
 "nbformat_minor": 5
}
