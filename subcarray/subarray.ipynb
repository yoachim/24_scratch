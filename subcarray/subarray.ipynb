{
 "cells": [
  {
   "cell_type": "code",
   "execution_count": 1,
   "id": "b8b21b02-e83b-4b2e-aa25-f8f58c2cc5da",
   "metadata": {},
   "outputs": [],
   "source": [
    "import numpy as np"
   ]
  },
  {
   "cell_type": "code",
   "execution_count": 2,
   "id": "8d4dcb62-9e20-4e32-beb9-5f8a3e565a5b",
   "metadata": {},
   "outputs": [],
   "source": [
    "class Cities(np.ndarray):\n",
    "    def __new__(cls, n=1):\n",
    "        obj = np.zeros(n, dtype=[('name', '|U100'), ('latitude', float), ('logitude', float)]).view(cls)\n",
    "        return obj\n",
    "    def __array_finalize__(self, obj):\n",
    "        if obj is None: return"
   ]
  },
  {
   "cell_type": "code",
   "execution_count": 5,
   "id": "34b7c610-d56d-4753-9110-d55a36695150",
   "metadata": {},
   "outputs": [],
   "source": [
    "cities = Cities(5)"
   ]
  },
  {
   "cell_type": "code",
   "execution_count": 6,
   "id": "24410147-87cc-47cb-8fca-18d738dd4e0c",
   "metadata": {},
   "outputs": [
    {
     "data": {
      "text/plain": [
       "Cities([('', 0., 0.), ('', 0., 0.), ('', 0., 0.), ('', 0., 0.),\n",
       "        ('', 0., 0.)],\n",
       "       dtype=[('name', '<U20'), ('latitude', '<f8'), ('logitude', '<f8')])"
      ]
     },
     "execution_count": 6,
     "metadata": {},
     "output_type": "execute_result"
    }
   ],
   "source": [
    "cities"
   ]
  },
  {
   "cell_type": "code",
   "execution_count": 7,
   "id": "8293b4f6-0b3d-4a4a-acc6-2d1115b5356c",
   "metadata": {},
   "outputs": [],
   "source": [
    "cities2 = Cities(10)"
   ]
  },
  {
   "cell_type": "code",
   "execution_count": 8,
   "id": "723af758-ce64-4dfa-946c-5f9f7ff08684",
   "metadata": {},
   "outputs": [],
   "source": [
    "cities2['name'][0] = 'bob'"
   ]
  },
  {
   "cell_type": "code",
   "execution_count": 9,
   "id": "2067692d-0dcd-447c-becd-8a2eb98748d6",
   "metadata": {},
   "outputs": [
    {
     "data": {
      "text/plain": [
       "Cities([('bob', 0., 0.), ('', 0., 0.), ('', 0., 0.), ('', 0., 0.),\n",
       "        ('', 0., 0.), ('', 0., 0.), ('', 0., 0.), ('', 0., 0.),\n",
       "        ('', 0., 0.), ('', 0., 0.)],\n",
       "       dtype=[('name', '<U20'), ('latitude', '<f8'), ('logitude', '<f8')])"
      ]
     },
     "execution_count": 9,
     "metadata": {},
     "output_type": "execute_result"
    }
   ],
   "source": [
    "cities2"
   ]
  },
  {
   "cell_type": "code",
   "execution_count": 10,
   "id": "ea99f9e4-f5d3-4bcb-a8e2-fc035c2c7d0f",
   "metadata": {},
   "outputs": [
    {
     "data": {
      "text/plain": [
       "Cities(['bob', '', '', '', '', '', '', '', '', ''], dtype='<U20')"
      ]
     },
     "execution_count": 10,
     "metadata": {},
     "output_type": "execute_result"
    }
   ],
   "source": [
    "cities2['name']"
   ]
  },
  {
   "cell_type": "code",
   "execution_count": 11,
   "id": "7a2c57a4-0a4a-40a9-8fa2-573a01cafdf3",
   "metadata": {},
   "outputs": [
    {
     "data": {
      "text/plain": [
       "('', 0., 0.)"
      ]
     },
     "execution_count": 11,
     "metadata": {},
     "output_type": "execute_result"
    }
   ],
   "source": [
    "cities[1]"
   ]
  },
  {
   "cell_type": "code",
   "execution_count": 12,
   "id": "91a375b3-6689-4e6c-9817-5d4bf77b28b1",
   "metadata": {},
   "outputs": [],
   "source": [
    "cities[1]['latitude'] = 20"
   ]
  },
  {
   "cell_type": "code",
   "execution_count": 13,
   "id": "08d8d339-cc55-49b3-8450-b0b184888559",
   "metadata": {},
   "outputs": [
    {
     "data": {
      "text/plain": [
       "Cities([('',  0., 0.), ('', 20., 0.), ('',  0., 0.), ('',  0., 0.),\n",
       "        ('',  0., 0.)],\n",
       "       dtype=[('name', '<U20'), ('latitude', '<f8'), ('logitude', '<f8')])"
      ]
     },
     "execution_count": 13,
     "metadata": {},
     "output_type": "execute_result"
    }
   ],
   "source": [
    "cities"
   ]
  },
  {
   "cell_type": "code",
   "execution_count": 14,
   "id": "277f49af-b3c9-4086-8614-e71163cf0426",
   "metadata": {},
   "outputs": [
    {
     "name": "stdout",
     "output_type": "stream",
     "text": [
      "('', 0., 0.)\n",
      "('', 20., 0.)\n",
      "('', 0., 0.)\n",
      "('', 0., 0.)\n",
      "('', 0., 0.)\n"
     ]
    }
   ],
   "source": [
    "for city in cities:\n",
    "    print(city)"
   ]
  },
  {
   "cell_type": "code",
   "execution_count": 16,
   "id": "78496341-b276-414d-a59a-214959d1f093",
   "metadata": {},
   "outputs": [],
   "source": [
    "coned = np.concatenate([cities, cities2])"
   ]
  },
  {
   "cell_type": "code",
   "execution_count": 18,
   "id": "e1da43c1-a111-4cb2-be20-91c0c4463336",
   "metadata": {},
   "outputs": [
    {
     "data": {
      "text/plain": [
       "array([('',  0., 0.), ('', 20., 0.), ('',  0., 0.), ('',  0., 0.),\n",
       "       ('',  0., 0.), ('bob',  0., 0.), ('',  0., 0.), ('',  0., 0.),\n",
       "       ('',  0., 0.), ('',  0., 0.), ('',  0., 0.), ('',  0., 0.),\n",
       "       ('',  0., 0.), ('',  0., 0.), ('',  0., 0.)],\n",
       "      dtype=[('name', '<U20'), ('latitude', '<f8'), ('logitude', '<f8')])"
      ]
     },
     "execution_count": 18,
     "metadata": {},
     "output_type": "execute_result"
    }
   ],
   "source": [
    "coned"
   ]
  },
  {
   "cell_type": "code",
   "execution_count": 21,
   "id": "302cc026-b1cd-42e4-9667-2bee367b8017",
   "metadata": {},
   "outputs": [],
   "source": [
    "coned.sort(order='name')"
   ]
  },
  {
   "cell_type": "code",
   "execution_count": 22,
   "id": "de3220db-cf2e-46ec-b3c4-4617fc5d0c2a",
   "metadata": {},
   "outputs": [
    {
     "data": {
      "text/plain": [
       "array([('',  0., 0.), ('',  0., 0.), ('',  0., 0.), ('',  0., 0.),\n",
       "       ('',  0., 0.), ('',  0., 0.), ('',  0., 0.), ('',  0., 0.),\n",
       "       ('',  0., 0.), ('',  0., 0.), ('',  0., 0.), ('',  0., 0.),\n",
       "       ('',  0., 0.), ('', 20., 0.), ('bob',  0., 0.)],\n",
       "      dtype=[('name', '<U20'), ('latitude', '<f8'), ('logitude', '<f8')])"
      ]
     },
     "execution_count": 22,
     "metadata": {},
     "output_type": "execute_result"
    }
   ],
   "source": [
    "coned"
   ]
  },
  {
   "cell_type": "code",
   "execution_count": 24,
   "id": "62915331-ae02-4aa7-a086-488470a92df8",
   "metadata": {},
   "outputs": [
    {
     "data": {
      "text/plain": [
       "Cities([ 0., 20.,  0.,  0.,  0.])"
      ]
     },
     "execution_count": 24,
     "metadata": {},
     "output_type": "execute_result"
    }
   ],
   "source": [
    "cities['latitude'] * np.arange(5)"
   ]
  },
  {
   "cell_type": "code",
   "execution_count": null,
   "id": "b072d918-12ca-4311-88ed-a9a0ac0e321e",
   "metadata": {},
   "outputs": [],
   "source": []
  }
 ],
 "metadata": {
  "kernelspec": {
   "display_name": "Python 3 (ipykernel)",
   "language": "python",
   "name": "python3"
  },
  "language_info": {
   "codemirror_mode": {
    "name": "ipython",
    "version": 3
   },
   "file_extension": ".py",
   "mimetype": "text/x-python",
   "name": "python",
   "nbconvert_exporter": "python",
   "pygments_lexer": "ipython3",
   "version": "3.11.8"
  }
 },
 "nbformat": 4,
 "nbformat_minor": 5
}
