{
 "cells": [
  {
   "cell_type": "code",
   "execution_count": 1,
   "id": "2269fc5d-0e61-4f2f-8cc0-a15485fab977",
   "metadata": {},
   "outputs": [],
   "source": [
    "import pickle\n",
    "import os\n",
    "import sys"
   ]
  },
  {
   "cell_type": "code",
   "execution_count": 3,
   "id": "adf529e8-e64b-44aa-8d53-889080cb73b4",
   "metadata": {},
   "outputs": [],
   "source": [
    "with open('test_sched.pkl', 'rb') as f:\n",
    "    sched = pickle.load(f)\n",
    "with  open('test_obs.pkl', 'rb') as f:\n",
    "    observatory = pickle.load(f)"
   ]
  },
  {
   "cell_type": "code",
   "execution_count": 4,
   "id": "7d1599c9-59a7-4f76-92e2-0866bde4a12c",
   "metadata": {},
   "outputs": [
    {
     "data": {
      "text/markdown": [
       "# CoreScheduler at 0x106276e50\n",
       "|                | value                                   |\n",
       "|:---------------|:----------------------------------------|\n",
       "| camera         | LSST                                    |\n",
       "| nside          | 32                                      |\n",
       "| rotator limits | [1.4835298641951802, 4.799655442984406] |\n",
       "| survey index   | [None, None]                            |\n",
       "| Last chosen    | None                                    |\n",
       "\n",
       "## Surveys\n",
       "\n",
       "### Survey list 0\n",
       "| survey                                                                                                             | reward   | chosen   |\n",
       "|:-------------------------------------------------------------------------------------------------------------------|:---------|:---------|\n",
       "| <DeepDrillingSurvey survey_name='DD: RGES_onseason', RA=4.689839326448923, dec=-0.505709150765357 at 0x103016c50>  |          | False    |\n",
       "| <DeepDrillingSurvey survey_name='DD: RGES_offseason', RA=4.689839326448923, dec=-0.505709150765357 at 0x1693f9b50> |          | False    |\n",
       "\n",
       "### Survey list 1\n",
       "| survey                                         | reward   | chosen   |\n",
       "|:-----------------------------------------------|:---------|:---------|\n",
       "| <ScriptedSurvey survey_name='' at 0x169404e90> |          | False    |\n",
       "| <ScriptedSurvey survey_name='' at 0x169406ad0> |          | False    |\n",
       "\n",
       "### Survey list 2\n",
       "| survey                                                                     | reward   | chosen   |\n",
       "|:---------------------------------------------------------------------------|:---------|:---------|\n",
       "| <LongGapSurvey survey_name='Long Gap (Blob survey g_r + )' at 0x15fdffc10> |          | False    |\n",
       "| <LongGapSurvey survey_name='Long Gap (Blob survey r_i + )' at 0x169420fd0> |          | False    |\n",
       "| <LongGapSurvey survey_name='Long Gap (Blob survey i_z + )' at 0x16942d710> |          | False    |\n",
       "\n",
       "### Survey list 3\n",
       "| survey                                                    | reward   | chosen   |\n",
       "|:----------------------------------------------------------|:---------|:---------|\n",
       "| <BlobSurvey survey_name='Blob survey u_g' at 0x169439f10> |          | False    |\n",
       "| <BlobSurvey survey_name='Blob survey u_r' at 0x16947d950> |          | False    |\n",
       "| <BlobSurvey survey_name='Blob survey g_r' at 0x16a410d10> |          | False    |\n",
       "| <BlobSurvey survey_name='Blob survey r_i' at 0x16a448650> |          | False    |\n",
       "| <BlobSurvey survey_name='Blob survey i_z' at 0x16a47bf10> |          | False    |\n",
       "| <BlobSurvey survey_name='Blob survey z_y' at 0x16a4b3350> |          | False    |\n",
       "| <BlobSurvey survey_name='Blob survey y_y' at 0x16a4e62d0> |          | False    |\n",
       "\n",
       "### Survey list 4\n",
       "| survey                                                    | reward   | chosen   |\n",
       "|:----------------------------------------------------------|:---------|:---------|\n",
       "| <BlobSurvey survey_name='Blob survey r_i' at 0x16a5191d0> |          | False    |\n",
       "| <BlobSurvey survey_name='Blob survey i_z' at 0x16a55c110> |          | False    |\n",
       "| <BlobSurvey survey_name='Blob survey z_y' at 0x16a58ef50> |          | False    |\n",
       "| <BlobSurvey survey_name='Blob survey y_y' at 0x16a5c5d50> |          | False    |\n",
       "\n",
       "### Survey list 5\n",
       "| survey                                                    | reward   | chosen   |\n",
       "|:----------------------------------------------------------|:---------|:---------|\n",
       "| <BlobSurvey survey_name='Blob survey r_r' at 0x16a5f8b90> |          | False    |\n",
       "| <BlobSurvey survey_name='Blob survey i_i' at 0x16a608090> |          | False    |\n",
       "| <BlobSurvey survey_name='Blob survey z_z' at 0x16a60add0> |          | False    |\n",
       "\n",
       "### Survey list 6\n",
       "| survey                                             | reward   | chosen   |\n",
       "|:---------------------------------------------------|:---------|:---------|\n",
       "| <GreedySurvey survey_name='greedy' at 0x16a619910> |          | False    |\n",
       "| <GreedySurvey survey_name='greedy' at 0x16a643190> |          | False    |\n",
       "| <GreedySurvey survey_name='greedy' at 0x16a67c210> |          | False    |\n",
       "| <GreedySurvey survey_name='greedy' at 0x16a6ad210> |          | False    |\n",
       "\n",
       "No conditions set\n",
       "\n",
       "## Queue\n",
       "Queue is empty\n"
      ],
      "text/plain": [
       "CoreScheduler(\n",
       "            surveys=[[<DeepDrillingSurvey survey_name='DD: RGES_onseason', RA=4.689839326448923, dec=-0.505709150765357 at 0x103016c50>, <DeepDrillingSurvey survey_name='DD: RGES_offseason', RA=4.689839326448923, dec=-0.505709150765357 at 0x1693f9b50>], [<ScriptedSurvey survey_name='' at 0x169404e90>, <ScriptedSurvey survey_name='' at 0x169406ad0>], [<LongGapSurvey survey_name='Long Gap (Blob survey g_r + )' at 0x15fdffc10>, <LongGapSurvey survey_name='Long Gap (Blob survey r_i + )' at 0x169420fd0>, <LongGapSurvey survey_name='Long Gap (Blob survey i_z + )' at 0x16942d710>], [<BlobSurvey survey_name='Blob survey u_g' at 0x169439f10>, <BlobSurvey survey_name='Blob survey u_r' at 0x16947d950>, <BlobSurvey survey_name='Blob survey g_r' at 0x16a410d10>, <BlobSurvey survey_name='Blob survey r_i' at 0x16a448650>, <BlobSurvey survey_name='Blob survey i_z' at 0x16a47bf10>, <BlobSurvey survey_name='Blob survey z_y' at 0x16a4b3350>, <BlobSurvey survey_name='Blob survey y_y' at 0x16a4e62d0>], [<BlobSurvey survey_name='Blob survey r_i' at 0x16a5191d0>, <BlobSurvey survey_name='Blob survey i_z' at 0x16a55c110>, <BlobSurvey survey_name='Blob survey z_y' at 0x16a58ef50>, <BlobSurvey survey_name='Blob survey y_y' at 0x16a5c5d50>], [<BlobSurvey survey_name='Blob survey r_r' at 0x16a5f8b90>, <BlobSurvey survey_name='Blob survey i_i' at 0x16a608090>, <BlobSurvey survey_name='Blob survey z_z' at 0x16a60add0>], [<GreedySurvey survey_name='greedy' at 0x16a619910>, <GreedySurvey survey_name='greedy' at 0x16a643190>, <GreedySurvey survey_name='greedy' at 0x16a67c210>, <GreedySurvey survey_name='greedy' at 0x16a6ad210>]],\n",
       "            camera=\"LSST\",\n",
       "            nside=32,\n",
       "            rotator_limits=array([1.48352986, 4.79965544]),\n",
       "            survey_index=[None, None],\n",
       "            log=<Logger CoreScheduler (WARNING)>\n",
       "        )"
      ]
     },
     "execution_count": 4,
     "metadata": {},
     "output_type": "execute_result"
    }
   ],
   "source": [
    "sched"
   ]
  },
  {
   "cell_type": "code",
   "execution_count": null,
   "id": "1c31849b-6e03-4ebc-aa62-256eba598f5d",
   "metadata": {},
   "outputs": [],
   "source": [
    "# ok, and loading the scheduler and observatory takes up 974 MB. As expected! \n",
    "# So something going crazy on the slow restore by using arrays. "
   ]
  }
 ],
 "metadata": {
  "kernelspec": {
   "display_name": "Python 3 (ipykernel)",
   "language": "python",
   "name": "python3"
  },
  "language_info": {
   "codemirror_mode": {
    "name": "ipython",
    "version": 3
   },
   "file_extension": ".py",
   "mimetype": "text/x-python",
   "name": "python",
   "nbconvert_exporter": "python",
   "pygments_lexer": "ipython3",
   "version": "3.11.8"
  }
 },
 "nbformat": 4,
 "nbformat_minor": 5
}
