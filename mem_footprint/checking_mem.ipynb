{
 "cells": [
  {
   "cell_type": "code",
   "execution_count": 9,
   "id": "76d57756-3e82-4b6f-b1ef-d5e628106797",
   "metadata": {},
   "outputs": [],
   "source": [
    "import numpy as np\n",
    "from rubin_scheduler.scheduler.utils import restore_scheduler\n",
    "import healpy as hp\n",
    "import matplotlib.pylab as plt\n",
    "%matplotlib inline\n",
    "from rubin_scheduler.scheduler.model_observatory import ModelObservatory\n",
    "import pickle\n",
    "import os\n",
    "import sys"
   ]
  },
  {
   "cell_type": "code",
   "execution_count": 2,
   "id": "df09de5f-b229-442c-8623-54a18c4d34b6",
   "metadata": {},
   "outputs": [],
   "source": [
    "nside=32\n",
    "mjd_start =  60796.0\n",
    "\n",
    "\n",
    "observatory = ModelObservatory(nside=nside, mjd_start=mjd_start)"
   ]
  },
  {
   "cell_type": "code",
   "execution_count": 3,
   "id": "780ebe60-b463-4ee2-a43e-a0809fd809e5",
   "metadata": {},
   "outputs": [],
   "source": [
    "from early_draft_too import sched_argparser, example_scheduler"
   ]
  },
  {
   "cell_type": "code",
   "execution_count": 4,
   "id": "72c61dc5-5176-4d18-a7f1-38487ffe3999",
   "metadata": {},
   "outputs": [
    {
     "name": "stdout",
     "output_type": "stream",
     "text": [
      "Optimizing ELAISS1\n",
      "Optimizing XMM_LSS\n",
      "Optimizing ECDFS\n",
      "Optimizing COSMOS\n",
      "Optimizing EDFS_a\n"
     ]
    }
   ],
   "source": [
    "parser = sched_argparser()\n",
    "args = parser.parse_args(args=[])\n",
    "args.setup_only = True\n",
    "args.no_too = True\n",
    "\n",
    "scheduler = example_scheduler(args)"
   ]
  },
  {
   "cell_type": "code",
   "execution_count": 5,
   "id": "6f867d97-c4b6-4779-8693-2280ea7fc249",
   "metadata": {},
   "outputs": [],
   "source": [
    "scheduler, observatory = restore_scheduler(1000000, scheduler, observatory, '/Users/yoachim/runs35/early_draft/m2_early_draft_notoo_v3.5_10yrs.db')"
   ]
  },
  {
   "cell_type": "code",
   "execution_count": 6,
   "id": "e9a51d47-2a6d-46c3-9215-19208e6b625f",
   "metadata": {},
   "outputs": [],
   "source": [
    "# Looks like this spikes up to 5Gb, then falls back down to 1Gb. Why would it spike by a factor of 5?"
   ]
  },
  {
   "cell_type": "code",
   "execution_count": 7,
   "id": "c977205b-5f95-4df5-ad12-3ef64052efb1",
   "metadata": {},
   "outputs": [],
   "source": [
    "# try and pickle the scheduler to see how big it is\n",
    "with open('test_sched.pkl', 'wb') as f:\n",
    "    pickle.dump(scheduler, f)\n",
    "with  open('test_obs.pkl', 'wb') as f:\n",
    "    pickle.dump(observatory, f)"
   ]
  },
  {
   "cell_type": "code",
   "execution_count": 8,
   "id": "87450ed1-d371-4f4b-a274-12f7b9da3ee1",
   "metadata": {},
   "outputs": [
    {
     "name": "stdout",
     "output_type": "stream",
     "text": [
      "Sched pickle in MB 174.39423370361328\n",
      "Sched pickle in MB 599.5760440826416\n"
     ]
    }
   ],
   "source": [
    "print(\"Sched pickle in MB\", os.stat('test_sched.pkl').st_size/ (1024 * 1024))\n",
    "print(\"Sched pickle in MB\", os.stat('test_obs.pkl').st_size/ (1024 * 1024))\n"
   ]
  },
  {
   "cell_type": "code",
   "execution_count": 10,
   "id": "cddd5abd-f881-46b8-b25e-9f7bc946ca21",
   "metadata": {},
   "outputs": [],
   "source": [
    "# ok, so pickle doesn't change size even if loading more observations (as expected)\n",
    "# but right now I'm seeing a 12.22 GB memory footprint for this notebook. wtf is "
   ]
  },
  {
   "cell_type": "code",
   "execution_count": 11,
   "id": "6712fb1a-241f-4ef3-987d-63d7d986e38c",
   "metadata": {},
   "outputs": [
    {
     "data": {
      "text/plain": [
       "56"
      ]
     },
     "execution_count": 11,
     "metadata": {},
     "output_type": "execute_result"
    }
   ],
   "source": [
    "sys.getsizeof(observatory)"
   ]
  },
  {
   "cell_type": "code",
   "execution_count": 15,
   "id": "e7a83452-f4f7-474c-9ebd-5736793debc5",
   "metadata": {},
   "outputs": [
    {
     "data": {
      "text/plain": [
       "64"
      ]
     },
     "execution_count": 15,
     "metadata": {},
     "output_type": "execute_result"
    }
   ],
   "source": [
    "sys.getsizeof(scheduler.surveys_df)"
   ]
  },
  {
   "cell_type": "code",
   "execution_count": 16,
   "id": "edf2b068-8473-4038-97e2-89d1cf23a531",
   "metadata": {},
   "outputs": [
    {
     "data": {
      "text/plain": [
       "<bound method CoreScheduler.surveys_df of CoreScheduler(\n",
       "            surveys=[[<DeepDrillingSurvey survey_name='DD: RGES_onseason', RA=4.689839326448923, dec=-0.505709150765357 at 0x17d0a0890>, <DeepDrillingSurvey survey_name='DD: RGES_offseason', RA=4.689839326448923, dec=-0.505709150765357 at 0x17d0a1210>], [<ScriptedSurvey survey_name='' at 0x17ce1b050>, <ScriptedSurvey survey_name='' at 0x1448a1150>], [<LongGapSurvey survey_name='Long Gap (Blob survey g_r + )' at 0x17b0a9d50>, <LongGapSurvey survey_name='Long Gap (Blob survey r_i + )' at 0x30dc28150>, <LongGapSurvey survey_name='Long Gap (Blob survey i_z + )' at 0x30dc24410>], [<BlobSurvey survey_name='Blob survey u_g' at 0x17b0c4dd0>, <BlobSurvey survey_name='Blob survey u_r' at 0x17d02c2d0>, <BlobSurvey survey_name='Blob survey g_r' at 0x361935650>, <BlobSurvey survey_name='Blob survey r_i' at 0x30da992d0>, <BlobSurvey survey_name='Blob survey i_z' at 0x30da72d10>, <BlobSurvey survey_name='Blob survey z_y' at 0x36199f110>, <BlobSurvey survey_name='Blob survey y_y' at 0x17d018310>], [<BlobSurvey survey_name='Blob survey r_i' at 0x17d0313d0>, <BlobSurvey survey_name='Blob survey i_z' at 0x30dce3550>, <BlobSurvey survey_name='Blob survey z_y' at 0x30dc40710>, <BlobSurvey survey_name='Blob survey y_y' at 0x17ce735d0>], [<BlobSurvey survey_name='Blob survey r_r' at 0x17d04c090>, <BlobSurvey survey_name='Blob survey i_i' at 0x17ce6dad0>, <BlobSurvey survey_name='Blob survey z_z' at 0x30dc28ed0>], [<GreedySurvey survey_name='greedy' at 0x168f39450>, <GreedySurvey survey_name='greedy' at 0x17d0e6d10>, <GreedySurvey survey_name='greedy' at 0x30db76710>, <GreedySurvey survey_name='greedy' at 0x17d02d010>]],\n",
       "            camera=\"LSST\",\n",
       "            nside=32,\n",
       "            rotator_limits=array([1.48352986, 4.79965544]),\n",
       "            survey_index=[None, None],\n",
       "            log=<Logger CoreScheduler (WARNING)>\n",
       "        )>"
      ]
     },
     "execution_count": 16,
     "metadata": {},
     "output_type": "execute_result"
    }
   ],
   "source": [
    "scheduler.surveys_df"
   ]
  },
  {
   "cell_type": "code",
   "execution_count": null,
   "id": "ee26ccf2-b312-4ef2-a77e-8a9aceb54b27",
   "metadata": {},
   "outputs": [],
   "source": []
  }
 ],
 "metadata": {
  "kernelspec": {
   "display_name": "Python 3 (ipykernel)",
   "language": "python",
   "name": "python3"
  },
  "language_info": {
   "codemirror_mode": {
    "name": "ipython",
    "version": 3
   },
   "file_extension": ".py",
   "mimetype": "text/x-python",
   "name": "python",
   "nbconvert_exporter": "python",
   "pygments_lexer": "ipython3",
   "version": "3.11.8"
  }
 },
 "nbformat": 4,
 "nbformat_minor": 5
}
