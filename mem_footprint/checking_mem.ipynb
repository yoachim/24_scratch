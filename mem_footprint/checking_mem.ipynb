{
 "cells": [
  {
   "cell_type": "code",
   "execution_count": 1,
   "id": "76d57756-3e82-4b6f-b1ef-d5e628106797",
   "metadata": {},
   "outputs": [],
   "source": [
    "import numpy as np\n",
    "from rubin_scheduler.scheduler.utils import restore_scheduler\n",
    "import healpy as hp\n",
    "import matplotlib.pylab as plt\n",
    "%matplotlib inline\n",
    "from rubin_scheduler.scheduler.model_observatory import ModelObservatory\n"
   ]
  },
  {
   "cell_type": "code",
   "execution_count": 2,
   "id": "df09de5f-b229-442c-8623-54a18c4d34b6",
   "metadata": {},
   "outputs": [],
   "source": [
    "nside=32\n",
    "mjd_start =  60796.0\n",
    "\n",
    "\n",
    "observatory = ModelObservatory(nside=nside, mjd_start=mjd_start)"
   ]
  },
  {
   "cell_type": "code",
   "execution_count": 3,
   "id": "780ebe60-b463-4ee2-a43e-a0809fd809e5",
   "metadata": {},
   "outputs": [],
   "source": [
    "from early_draft_too import sched_argparser, example_scheduler"
   ]
  },
  {
   "cell_type": "code",
   "execution_count": 4,
   "id": "72c61dc5-5176-4d18-a7f1-38487ffe3999",
   "metadata": {},
   "outputs": [
    {
     "name": "stdout",
     "output_type": "stream",
     "text": [
      "Optimizing ELAISS1\n",
      "Optimizing XMM_LSS\n",
      "Optimizing ECDFS\n",
      "Optimizing COSMOS\n",
      "Optimizing EDFS_a\n"
     ]
    }
   ],
   "source": [
    "parser = sched_argparser()\n",
    "args = parser.parse_args(args=[])\n",
    "args.setup_only = True\n",
    "args.no_too = True\n",
    "\n",
    "scheduler = example_scheduler(args)"
   ]
  },
  {
   "cell_type": "code",
   "execution_count": 5,
   "id": "6f867d97-c4b6-4779-8693-2280ea7fc249",
   "metadata": {},
   "outputs": [],
   "source": [
    "scheduler, observatory = restore_scheduler(100000, scheduler, observatory, '/Users/yoachim/runs35/early_draft/m2_early_draft_notoo_v3.5_10yrs.db')"
   ]
  },
  {
   "cell_type": "code",
   "execution_count": null,
   "id": "e9a51d47-2a6d-46c3-9215-19208e6b625f",
   "metadata": {},
   "outputs": [],
   "source": [
    "# Looks like this spikes up to 5Gb, then falls back down to 1Gb. Why would it spike by a factor of 5?"
   ]
  },
  {
   "cell_type": "code",
   "execution_count": null,
   "id": "c977205b-5f95-4df5-ad12-3ef64052efb1",
   "metadata": {},
   "outputs": [],
   "source": []
  }
 ],
 "metadata": {
  "kernelspec": {
   "display_name": "Python 3 (ipykernel)",
   "language": "python",
   "name": "python3"
  },
  "language_info": {
   "codemirror_mode": {
    "name": "ipython",
    "version": 3
   },
   "file_extension": ".py",
   "mimetype": "text/x-python",
   "name": "python",
   "nbconvert_exporter": "python",
   "pygments_lexer": "ipython3",
   "version": "3.11.8"
  }
 },
 "nbformat": 4,
 "nbformat_minor": 5
}
