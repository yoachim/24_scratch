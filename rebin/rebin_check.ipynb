{
 "cells": [
  {
   "cell_type": "code",
   "execution_count": 1,
   "id": "969f03e5-2f0a-4b5f-be23-337e26869fa9",
   "metadata": {},
   "outputs": [],
   "source": [
    "import numpy as np\n",
    "from rubin_scheduler.data import get_data_dir\n",
    "\n",
    "from rubin_sim.phot_utils import Bandpass, PhotometricParameters, Sed\n",
    "\n",
    "import matplotlib.pylab as plt\n",
    "%matplotlib inline\n"
   ]
  },
  {
   "cell_type": "code",
   "execution_count": 2,
   "id": "1e5eacc1-f265-46d6-a710-be015a5ae914",
   "metadata": {},
   "outputs": [
    {
     "name": "stderr",
     "output_type": "stream",
     "text": [
      "/Users/yoachim/git_repos/rubin_sim/rubin_sim/phot_utils/bandpass.py:82: UserWarning: Wavelength sampling of 0.5 nm is > 0.2 nm, this may not work well with a Sed object. Consider resampling with resample_bandpass method.\n",
      "  warnings.warn(\n"
     ]
    }
   ],
   "source": [
    "sed = Sed()\n",
    "sed.set_flat_sed(wavelen_step=0.01)\n",
    "\n",
    "# Make a line feature.\n",
    "sigma = 0.05\n",
    "fnu = sed.fnu - sed.fnu.max()*np.exp(-(sed.wavelen-365.2)**2/sigma**2) \n",
    "fnu[np.where(fnu < 0)] = 0\n",
    "\n",
    "sed.set_sed(sed.wavelen, fnu=fnu)\n",
    "wave_fine = np.arange(350, 380+0.01, 0.01)\n",
    "\n",
    "sed.resample_sed(wavelen_match=wave_fine)\n",
    "\n",
    "\n",
    "bp_fine = Bandpass(wavelen=wave_fine, sb=np.ones(wave_fine.size))\n",
    "\n",
    "wave_rough = wave_fine = np.arange(350, 380+0.5, 0.5)\n",
    "bp_rough = Bandpass(wavelen=wave_rough, sb=np.ones(wave_rough.size))"
   ]
  },
  {
   "cell_type": "code",
   "execution_count": 3,
   "id": "9fe8a424-7887-443e-aa6a-f4633051905c",
   "metadata": {},
   "outputs": [
    {
     "name": "stderr",
     "output_type": "stream",
     "text": [
      "/Users/yoachim/git_repos/rubin_sim/rubin_sim/phot_utils/sed.py:795: UserWarning: There is an area of non-overlap between desired wavelength range  (350.00 to 380.00)and sed FromArray (350.00 to 380.00)\n",
      "  warnings.warn(\n"
     ]
    },
    {
     "data": {
      "text/plain": [
       "[<matplotlib.lines.Line2D at 0x137391090>]"
      ]
     },
     "execution_count": 3,
     "metadata": {},
     "output_type": "execute_result"
    },
    {
     "data": {
      "image/png": "[encoded data removed]",
      "text/plain": [
       "<Figure size 640x480 with 1 Axes>"
      ]
     },
     "metadata": {},
     "output_type": "display_data"
    }
   ],
   "source": [
    "plt.plot(sed.wavelen, sed.flambda)\n",
    "plt.xlim([350,380])\n",
    "\n",
    "sed.resample_sed(wavelen_match=wave_rough)\n",
    "plt.plot(sed.wavelen, sed.flambda)\n",
    "\n"
   ]
  },
  {
   "cell_type": "code",
   "execution_count": 4,
   "id": "e980e2cb-b70b-4fb4-8314-8cdff4d62286",
   "metadata": {},
   "outputs": [],
   "source": [
    "sed.fnu"
   ]
  },
  {
   "cell_type": "code",
   "execution_count": 6,
   "id": "fcaee265-35f7-4bcf-ae06-379fec0bd812",
   "metadata": {},
   "outputs": [
    {
     "data": {
      "text/plain": [
       "array([350. , 350.5, 351. , 351.5, 352. , 352.5, 353. , 353.5, 354. ,\n",
       "       354.5, 355. , 355.5, 356. , 356.5, 357. , 357.5, 358. , 358.5,\n",
       "       359. , 359.5, 360. , 360.5, 361. , 361.5, 362. , 362.5, 363. ,\n",
       "       363.5, 364. , 364.5, 365. , 365.5, 366. , 366.5, 367. , 367.5,\n",
       "       368. , 368.5, 369. , 369.5, 370. , 370.5, 371. , 371.5, 372. ,\n",
       "       372.5, 373. , 373.5, 374. , 374.5, 375. , 375.5, 376. , 376.5,\n",
       "       377. , 377.5, 378. , 378.5, 379. , 379.5, 380. ])"
      ]
     },
     "execution_count": 6,
     "metadata": {},
     "output_type": "execute_result"
    }
   ],
   "source": [
    "wave_fine"
   ]
  },
  {
   "cell_type": "code",
   "execution_count": 7,
   "id": "146243b7-7403-48f1-8f01-418fc127c7e0",
   "metadata": {},
   "outputs": [
    {
     "data": {
      "text/plain": [
       "array([350. , 350.5, 351. , 351.5, 352. , 352.5, 353. , 353.5, 354. ,\n",
       "       354.5, 355. , 355.5, 356. , 356.5, 357. , 357.5, 358. , 358.5,\n",
       "       359. , 359.5, 360. , 360.5, 361. , 361.5, 362. , 362.5, 363. ,\n",
       "       363.5, 364. , 364.5, 365. , 365.5, 366. , 366.5, 367. , 367.5,\n",
       "       368. , 368.5, 369. , 369.5, 370. , 370.5, 371. , 371.5, 372. ,\n",
       "       372.5, 373. , 373.5, 374. , 374.5, 375. , 375.5, 376. , 376.5,\n",
       "       377. , 377.5, 378. , 378.5, 379. , 379.5, 380. ])"
      ]
     },
     "execution_count": 7,
     "metadata": {},
     "output_type": "execute_result"
    }
   ],
   "source": [
    "wave_rough"
   ]
  },
  {
   "cell_type": "code",
   "execution_count": null,
   "id": "69775d26-6178-4238-a010-bce247c18f59",
   "metadata": {},
   "outputs": [],
   "source": []
  },
  {
   "cell_type": "code",
   "execution_count": null,
   "id": "c3c9727d-92c0-467c-934a-7879b6a012ee",
   "metadata": {},
   "outputs": [],
   "source": []
  }
 ],
 "metadata": {
  "kernelspec": {
   "display_name": "Python 3 (ipykernel)",
   "language": "python",
   "name": "python3"
  },
  "language_info": {
   "codemirror_mode": {
    "name": "ipython",
    "version": 3
   },
   "file_extension": ".py",
   "mimetype": "text/x-python",
   "name": "python",
   "nbconvert_exporter": "python",
   "pygments_lexer": "ipython3",
   "version": "3.11.8"
  }
 },
 "nbformat": 4,
 "nbformat_minor": 5
}
