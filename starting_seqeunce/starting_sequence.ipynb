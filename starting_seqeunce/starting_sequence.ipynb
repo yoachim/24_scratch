{
 "cells": [
  {
   "cell_type": "code",
   "execution_count": 1,
   "id": "d9b4ed9a-f982-45fa-80fd-16eb94041678",
   "metadata": {},
   "outputs": [],
   "source": [
    "# check that we can add a starting sequence to observations\n",
    "\n",
    "from rubin_scheduler.scheduler.model_observatory import ModelObservatory\n",
    "from rubin_scheduler.scheduler.surveys import BaseSurvey, FieldSurvey\n",
    "from rubin_scheduler.scheduler.utils import ObservationArray, SkyAreaGenerator, Footprint\n",
    "from rubin_scheduler.scheduler.schedulers import CoreScheduler, SimpleFilterSched\n",
    "from rubin_scheduler.scheduler import sim_runner\n",
    "from rubin_scheduler.scheduler.detailers import StartFieldSequenceDetailer\n",
    "from rubin_scheduler.utils import (_approx_ra_dec2_alt_az, _approx_altaz2pa, \n",
    "                                   rotation_converter, SysEngVals, _approx_alt_az2_ra_dec,\n",
    "                                  _ra_dec2_hpid)\n",
    "import rubin_scheduler.scheduler.basis_functions as basis_functions\n",
    "\n",
    "import numpy as np\n",
    "import healpy as hp\n",
    "import matplotlib.pylab as plt\n",
    "%matplotlib inline\n",
    "\n",
    "import pandas as pd\n"
   ]
  },
  {
   "cell_type": "code",
   "execution_count": 2,
   "id": "31d60e91-3e68-4503-b13a-278d5b032213",
   "metadata": {},
   "outputs": [],
   "source": [
    "# load up a model observatory\n",
    "nside = 32\n",
    "mo = ModelObservatory(downtimes=\"ideal\", cloud_data=\"ideal\", nside=nside)"
   ]
  },
  {
   "cell_type": "code",
   "execution_count": 3,
   "id": "76130242-0a36-405b-84c5-694a77bacdf5",
   "metadata": {},
   "outputs": [],
   "source": [
    "# basic basis functions for a FieldSurvey\n",
    "\n",
    "bfs = []\n",
    "bfs.append(basis_functions.AltAzShadowMaskBasisFunction(\n",
    "            nside=nside,\n",
    "            min_alt=20.0,\n",
    "            max_alt=83.0,\n",
    "            shadow_minutes=2.0,\n",
    "        ))\n",
    "\n",
    "bfs.append(basis_functions.SlewtimeBasisFunction(filtername=\"r\", nside=nside))"
   ]
  },
  {
   "cell_type": "code",
   "execution_count": null,
   "id": "9fd0286e-2960-46ec-bb41-43bcc1eafc8f",
   "metadata": {},
   "outputs": [],
   "source": []
  },
  {
   "cell_type": "code",
   "execution_count": 4,
   "id": "893d1325-e47a-4971-b1ad-6d24e3a0942c",
   "metadata": {},
   "outputs": [],
   "source": [
    "# Have three positions on the sky\n",
    "# XXX--note these get converted to radians below. ObservationArray is\n",
    "# a mostly internally passed object, so it's values are all radians\n",
    "ras = [0, 120, 240]\n",
    "decs = [-20, -21, -22]\n",
    "\n",
    "surveys = []\n",
    "for ra,dec in zip(ras, decs):\n",
    "    # The starting observation sequence\n",
    "    starting_obs_list = []\n",
    "    for filtername in [\"r\", \"i\", \"z\"]:\n",
    "        starting_obs = ObservationArray(n=1)\n",
    "        starting_obs[\"filter\"] = filtername\n",
    "        starting_obs[\"RA\"] = np.radians(ra)\n",
    "        starting_obs[\"dec\"] = np.radians(dec)\n",
    "        starting_obs_list.append(starting_obs)\n",
    "    # Detailer that will add the starting sequence\n",
    "    # if criteria is met.\n",
    "    detailer = StartFieldSequenceDetailer(ra=ra, dec=dec, sequence_obs_list=starting_obs_list)\n",
    "\n",
    "    \n",
    "    surveys.append(FieldSurvey(bfs, ra, dec, detailers=[detailer], sequence=\"r\",\n",
    "                              target_name='Field_%i' % ra, scheduler_note='boogers'))\n"
   ]
  },
  {
   "cell_type": "code",
   "execution_count": 5,
   "id": "62d04e23-357a-49db-b3d2-1a849d3629d2",
   "metadata": {},
   "outputs": [],
   "source": [
    "scheduler = CoreScheduler(surveys, nside=nside)"
   ]
  },
  {
   "cell_type": "code",
   "execution_count": 6,
   "id": "78b36339-1eb7-4f1a-b1ca-fa9933d25e12",
   "metadata": {},
   "outputs": [
    {
     "name": "stderr",
     "output_type": "stream",
     "text": [
      "/Users/yoachim/git_repos/rubin_scheduler/rubin_scheduler/scheduler/schedulers/core_scheduler.py:292: RuntimeWarning: All-NaN axis encountered\n",
      "  rewards[i] = np.nanmax(survey.calc_reward_function(self.conditions))\n",
      "/Users/yoachim/git_repos/rubin_scheduler/rubin_scheduler/scheduler/model_observatory/kinem_model.py:755: RuntimeWarning: invalid value encountered in divide\n",
      "  (observation[\"exptime\"] / observation[\"nexp\"] + self.readtime * (observation[\"nexp\"] - 1))\n",
      "/Users/yoachim/git_repos/rubin_scheduler/rubin_scheduler/scheduler/model_observatory/kinem_model.py:743: RuntimeWarning: invalid value encountered in divide\n",
      "  delta_t = observation[\"exptime\"] / observation[\"nexp\"]\n",
      "/Users/yoachim/git_repos/rubin_scheduler/rubin_scheduler/scheduler/model_observatory/model_observatory.py:523: RuntimeWarning: invalid value encountered in divide\n",
      "  observation[\"exptime\"] / observation[\"nexp\"],\n"
     ]
    },
    {
     "name": "stdout",
     "output_type": "stream",
     "text": [
      "progress = 1.39%"
     ]
    },
    {
     "name": "stderr",
     "output_type": "stream",
     "text": [
      "/Users/yoachim/git_repos/rubin_scheduler/rubin_scheduler/scheduler/schedulers/core_scheduler.py:294: RuntimeWarning: All-NaN slice encountered\n",
      "  if np.nanmax(rewards) > -np.inf:\n",
      "/Users/yoachim/git_repos/rubin_scheduler/rubin_scheduler/scheduler/schedulers/core_scheduler.py:297: RuntimeWarning: All-NaN slice encountered\n",
      "  if (np.nanmax(rewards) == -np.inf) | (np.isnan(np.nanmax(rewards))):\n",
      "Failed to fill queue at time [60980.08053806]\n"
     ]
    },
    {
     "name": "stdout",
     "output_type": "stream",
     "text": [
      "progress = 3.04%"
     ]
    },
    {
     "name": "stderr",
     "output_type": "stream",
     "text": [
      "/Users/yoachim/git_repos/rubin_scheduler/rubin_scheduler/scheduler/sim_runner.py:157: UserWarning: No observation. Step into the future and trying again.\n",
      "  warnings.warn(\"No observation. Step into the future and trying again.\")\n"
     ]
    },
    {
     "name": "stdout",
     "output_type": "stream",
     "text": [
      "progress = 33.35%"
     ]
    },
    {
     "name": "stderr",
     "output_type": "stream",
     "text": [
      "/Users/yoachim/git_repos/rubin_scheduler/rubin_scheduler/skybrightness_pre/sky_model_pre.py:352: UserWarning: Requested MJD between sunrise and sunset, returning closest maps\n",
      "  warnings.warn(\"Requested MJD between sunrise and sunset, returning closest maps\")\n"
     ]
    },
    {
     "name": "stdout",
     "output_type": "stream",
     "text": [
      "progress = 34.75%"
     ]
    },
    {
     "name": "stderr",
     "output_type": "stream",
     "text": [
      "Failed to fill queue at time [60981.08117745]\n"
     ]
    },
    {
     "name": "stdout",
     "output_type": "stream",
     "text": [
      "progress = 100.07%Skipped 2 observations\n",
      "Flushed 0 observations from queue for being stale\n",
      "Completed 2536 observations\n",
      "ran in 0 min = 0.0 hours\n"
     ]
    }
   ],
   "source": [
    "mo, scheduler, observations = sim_runner(mo, scheduler, sim_duration=3.0, verbose=True)"
   ]
  },
  {
   "cell_type": "code",
   "execution_count": 7,
   "id": "847f7c74-1769-4730-827a-61f22d1e05da",
   "metadata": {},
   "outputs": [
    {
     "data": {
      "text/plain": [
       "ObservationArray(['', 'None'], dtype='<U40')"
      ]
     },
     "execution_count": 7,
     "metadata": {},
     "output_type": "execute_result"
    }
   ],
   "source": [
    "np.unique(observations[\"science_program\"])"
   ]
  },
  {
   "cell_type": "code",
   "execution_count": 8,
   "id": "46a87ef7-160b-4042-8c26-70a3eac0c7c3",
   "metadata": {},
   "outputs": [
    {
     "data": {
      "text/plain": [
       "ObservationArray(['boogers', 'starting_sequence'], dtype='<U40')"
      ]
     },
     "execution_count": 8,
     "metadata": {},
     "output_type": "execute_result"
    }
   ],
   "source": [
    "np.unique(observations[\"scheduler_note\"])"
   ]
  },
  {
   "cell_type": "code",
   "execution_count": 9,
   "id": "ca72d2b2-9c11-4f32-9706-963a2a66d9f6",
   "metadata": {},
   "outputs": [
    {
     "data": {
      "text/plain": [
       "[<matplotlib.lines.Line2D at 0x1059a8f90>]"
      ]
     },
     "execution_count": 9,
     "metadata": {},
     "output_type": "execute_result"
    },
    {
     "data": {
      "image/png": "[encoded data removed]",
      "text/plain": [
       "<Figure size 640x480 with 1 Axes>"
      ]
     },
     "metadata": {},
     "output_type": "display_data"
    }
   ],
   "source": [
    "plt.plot(observations[\"mjd\"], np.degrees(observations[\"RA\"]), 'ko')\n",
    "plt.xlabel(\"MJD\")\n",
    "plt.ylabel(\"RA (deg)\")\n",
    "\n",
    "ss = np.where(observations[\"scheduler_note\"] == 'starting_sequence')\n",
    "plt.plot(observations[\"mjd\"][ss], np.degrees(observations[\"RA\"][ss]), 'ro')\n",
    "\n"
   ]
  },
  {
   "cell_type": "code",
   "execution_count": 10,
   "id": "1b1bca67-ce0e-4ed4-8660-9249e9e6789a",
   "metadata": {},
   "outputs": [
    {
     "data": {
      "text/plain": [
       "ObservationArray(['r', 'i', 'z', 'r', 'i', 'z', 'r', 'i', 'z', 'r', 'i',\n",
       "                  'z', 'r', 'i', 'z', 'r', 'i', 'z'], dtype='<U40')"
      ]
     },
     "execution_count": 10,
     "metadata": {},
     "output_type": "execute_result"
    }
   ],
   "source": [
    "observations[\"filter\"][ss]"
   ]
  },
  {
   "cell_type": "code",
   "execution_count": null,
   "id": "2f895e16-6f12-4bb1-bf3a-3947d7373660",
   "metadata": {},
   "outputs": [],
   "source": []
  },
  {
   "cell_type": "code",
   "execution_count": null,
   "id": "750c4caf-a3a6-4b47-a063-8c183d1090ec",
   "metadata": {},
   "outputs": [],
   "source": []
  }
 ],
 "metadata": {
  "kernelspec": {
   "display_name": "Python 3 (ipykernel)",
   "language": "python",
   "name": "python3"
  },
  "language_info": {
   "codemirror_mode": {
    "name": "ipython",
    "version": 3
   },
   "file_extension": ".py",
   "mimetype": "text/x-python",
   "name": "python",
   "nbconvert_exporter": "python",
   "pygments_lexer": "ipython3",
   "version": "3.11.8"
  }
 },
 "nbformat": 4,
 "nbformat_minor": 5
}
