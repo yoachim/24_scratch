{
 "cells": [
  {
   "cell_type": "code",
   "execution_count": 1,
   "id": "7b25ca83-1f5f-4465-afb9-4d8b51272f06",
   "metadata": {},
   "outputs": [],
   "source": [
    "import pandas as pd\n",
    "import numpy as np\n",
    "import matplotlib.pylab as plt\n",
    "%matplotlib inline\n",
    "from scipy.optimize import curve_fit"
   ]
  },
  {
   "cell_type": "code",
   "execution_count": 2,
   "id": "e2b9ca3d-4009-4e69-accd-7a7463b22b58",
   "metadata": {},
   "outputs": [],
   "source": [
    "data = pd.read_csv('co2_mm_mlo.csv', comment='#')"
   ]
  },
  {
   "cell_type": "code",
   "execution_count": 3,
   "id": "410a2127-0e0b-4afd-80c8-e977a2af8bd3",
   "metadata": {},
   "outputs": [
    {
     "data": {
      "text/html": [
       "<div>\n",
       "<style scoped>\n",
       "    .dataframe tbody tr th:only-of-type {\n",
       "        vertical-align: middle;\n",
       "    }\n",
       "\n",
       "    .dataframe tbody tr th {\n",
       "        vertical-align: top;\n",
       "    }\n",
       "\n",
       "    .dataframe thead th {\n",
       "        text-align: right;\n",
       "    }\n",
       "</style>\n",
       "<table border=\"1\" class=\"dataframe\">\n",
       "  <thead>\n",
       "    <tr style=\"text-align: right;\">\n",
       "      <th></th>\n",
       "      <th>year</th>\n",
       "      <th>month</th>\n",
       "      <th>decimal date</th>\n",
       "      <th>average</th>\n",
       "      <th>deseasonalized</th>\n",
       "      <th>ndays</th>\n",
       "      <th>sdev</th>\n",
       "      <th>unc</th>\n",
       "    </tr>\n",
       "  </thead>\n",
       "  <tbody>\n",
       "    <tr>\n",
       "      <th>0</th>\n",
       "      <td>1958</td>\n",
       "      <td>3</td>\n",
       "      <td>1958.2027</td>\n",
       "      <td>315.71</td>\n",
       "      <td>314.44</td>\n",
       "      <td>-1</td>\n",
       "      <td>-9.99</td>\n",
       "      <td>-0.99</td>\n",
       "    </tr>\n",
       "    <tr>\n",
       "      <th>1</th>\n",
       "      <td>1958</td>\n",
       "      <td>4</td>\n",
       "      <td>1958.2877</td>\n",
       "      <td>317.45</td>\n",
       "      <td>315.16</td>\n",
       "      <td>-1</td>\n",
       "      <td>-9.99</td>\n",
       "      <td>-0.99</td>\n",
       "    </tr>\n",
       "    <tr>\n",
       "      <th>2</th>\n",
       "      <td>1958</td>\n",
       "      <td>5</td>\n",
       "      <td>1958.3699</td>\n",
       "      <td>317.51</td>\n",
       "      <td>314.69</td>\n",
       "      <td>-1</td>\n",
       "      <td>-9.99</td>\n",
       "      <td>-0.99</td>\n",
       "    </tr>\n",
       "    <tr>\n",
       "      <th>3</th>\n",
       "      <td>1958</td>\n",
       "      <td>6</td>\n",
       "      <td>1958.4548</td>\n",
       "      <td>317.27</td>\n",
       "      <td>315.15</td>\n",
       "      <td>-1</td>\n",
       "      <td>-9.99</td>\n",
       "      <td>-0.99</td>\n",
       "    </tr>\n",
       "    <tr>\n",
       "      <th>4</th>\n",
       "      <td>1958</td>\n",
       "      <td>7</td>\n",
       "      <td>1958.5370</td>\n",
       "      <td>315.87</td>\n",
       "      <td>315.20</td>\n",
       "      <td>-1</td>\n",
       "      <td>-9.99</td>\n",
       "      <td>-0.99</td>\n",
       "    </tr>\n",
       "    <tr>\n",
       "      <th>...</th>\n",
       "      <td>...</td>\n",
       "      <td>...</td>\n",
       "      <td>...</td>\n",
       "      <td>...</td>\n",
       "      <td>...</td>\n",
       "      <td>...</td>\n",
       "      <td>...</td>\n",
       "      <td>...</td>\n",
       "    </tr>\n",
       "    <tr>\n",
       "      <th>789</th>\n",
       "      <td>2023</td>\n",
       "      <td>12</td>\n",
       "      <td>2023.9583</td>\n",
       "      <td>421.86</td>\n",
       "      <td>422.60</td>\n",
       "      <td>20</td>\n",
       "      <td>0.69</td>\n",
       "      <td>0.29</td>\n",
       "    </tr>\n",
       "    <tr>\n",
       "      <th>790</th>\n",
       "      <td>2024</td>\n",
       "      <td>1</td>\n",
       "      <td>2024.0417</td>\n",
       "      <td>422.80</td>\n",
       "      <td>422.48</td>\n",
       "      <td>27</td>\n",
       "      <td>0.70</td>\n",
       "      <td>0.26</td>\n",
       "    </tr>\n",
       "    <tr>\n",
       "      <th>791</th>\n",
       "      <td>2024</td>\n",
       "      <td>2</td>\n",
       "      <td>2024.1250</td>\n",
       "      <td>424.62</td>\n",
       "      <td>423.67</td>\n",
       "      <td>21</td>\n",
       "      <td>1.22</td>\n",
       "      <td>0.51</td>\n",
       "    </tr>\n",
       "    <tr>\n",
       "      <th>792</th>\n",
       "      <td>2024</td>\n",
       "      <td>3</td>\n",
       "      <td>2024.2083</td>\n",
       "      <td>425.38</td>\n",
       "      <td>423.89</td>\n",
       "      <td>22</td>\n",
       "      <td>0.99</td>\n",
       "      <td>0.40</td>\n",
       "    </tr>\n",
       "    <tr>\n",
       "      <th>793</th>\n",
       "      <td>2024</td>\n",
       "      <td>4</td>\n",
       "      <td>2024.2917</td>\n",
       "      <td>426.57</td>\n",
       "      <td>423.91</td>\n",
       "      <td>24</td>\n",
       "      <td>0.97</td>\n",
       "      <td>0.38</td>\n",
       "    </tr>\n",
       "  </tbody>\n",
       "</table>\n",
       "<p>794 rows × 8 columns</p>\n",
       "</div>"
      ],
      "text/plain": [
       "     year  month  decimal date  average  deseasonalized  ndays  sdev   unc\n",
       "0    1958      3     1958.2027   315.71          314.44     -1 -9.99 -0.99\n",
       "1    1958      4     1958.2877   317.45          315.16     -1 -9.99 -0.99\n",
       "2    1958      5     1958.3699   317.51          314.69     -1 -9.99 -0.99\n",
       "3    1958      6     1958.4548   317.27          315.15     -1 -9.99 -0.99\n",
       "4    1958      7     1958.5370   315.87          315.20     -1 -9.99 -0.99\n",
       "..    ...    ...           ...      ...             ...    ...   ...   ...\n",
       "789  2023     12     2023.9583   421.86          422.60     20  0.69  0.29\n",
       "790  2024      1     2024.0417   422.80          422.48     27  0.70  0.26\n",
       "791  2024      2     2024.1250   424.62          423.67     21  1.22  0.51\n",
       "792  2024      3     2024.2083   425.38          423.89     22  0.99  0.40\n",
       "793  2024      4     2024.2917   426.57          423.91     24  0.97  0.38\n",
       "\n",
       "[794 rows x 8 columns]"
      ]
     },
     "execution_count": 3,
     "metadata": {},
     "output_type": "execute_result"
    }
   ],
   "source": [
    "data"
   ]
  },
  {
   "cell_type": "code",
   "execution_count": 4,
   "id": "cab31d07-0374-4055-8505-e7839a7783ba",
   "metadata": {},
   "outputs": [
    {
     "data": {
      "text/plain": [
       "[<matplotlib.lines.Line2D at 0x15c70d690>]"
      ]
     },
     "execution_count": 4,
     "metadata": {},
     "output_type": "execute_result"
    },
    {
     "data": {
      "image/png": "[encoded data removed]",
      "text/plain": [
       "<Figure size 640x480 with 1 Axes>"
      ]
     },
     "metadata": {},
     "output_type": "display_data"
    }
   ],
   "source": [
    "plt.plot(data[\"decimal date\"], data['deseasonalized'])"
   ]
  },
  {
   "cell_type": "code",
   "execution_count": 5,
   "id": "beadd974-115d-4428-9a89-217175d4a43d",
   "metadata": {},
   "outputs": [],
   "source": [
    "good = np.where(data[\"decimal date\"] > 2010)"
   ]
  },
  {
   "cell_type": "code",
   "execution_count": 6,
   "id": "c43cf902-9b46-43c9-a579-c771ca9bfdf7",
   "metadata": {},
   "outputs": [],
   "source": [
    "def func_line(x, a, b):\n",
    "    return a * x + b\n",
    "cf, cov = curve_fit(func_line, data[\"decimal date\"].values[good], data['deseasonalized'].values[good])"
   ]
  },
  {
   "cell_type": "code",
   "execution_count": 7,
   "id": "d19f0879-b79d-414a-9570-cf099e2905c2",
   "metadata": {},
   "outputs": [
    {
     "data": {
      "text/plain": [
       "array([ 2.44506951e+00, -4.52637771e+03])"
      ]
     },
     "execution_count": 7,
     "metadata": {},
     "output_type": "execute_result"
    }
   ],
   "source": [
    "cf"
   ]
  },
  {
   "cell_type": "code",
   "execution_count": 8,
   "id": "5f1313c5-9a90-4279-bc04-7d535cdf3890",
   "metadata": {},
   "outputs": [
    {
     "data": {
      "text/plain": [
       "Text(0, 0.5, 'CO2 (ppm)')"
      ]
     },
     "execution_count": 8,
     "metadata": {},
     "output_type": "execute_result"
    },
    {
     "data": {
      "image/png": "[encoded data removed]",
      "text/plain": [
       "<Figure size 640x480 with 1 Axes>"
      ]
     },
     "metadata": {},
     "output_type": "display_data"
    }
   ],
   "source": [
    "plt.plot(data[\"decimal date\"].values[good], data['deseasonalized'].values[good])\n",
    "plt.plot(data[\"decimal date\"].values[good], func_line(data[\"decimal date\"].values[good], cf[0], cf[1]))\n",
    "projected_x = np.linspace(2024, 2028, 20)\n",
    "plt.plot(projected_x, func_line(projected_x, cf[0], cf[1]), '--')\n",
    "plt.xlabel('date')\n",
    "plt.ylabel('CO2 (ppm)')"
   ]
  },
  {
   "cell_type": "code",
   "execution_count": 9,
   "id": "72ecbba3-1754-4240-8ba5-f6c5ea3e786d",
   "metadata": {},
   "outputs": [
    {
     "name": "stdout",
     "output_type": "stream",
     "text": [
      "Projection for 1st day of 2028 is 432.223253 ppm\n"
     ]
    }
   ],
   "source": [
    "print('Projection for 1st day of 2028 is %f ppm' % func_line(2028., cf[0], cf[1]))"
   ]
  },
  {
   "cell_type": "markdown",
   "id": "8cfcd668-3e14-4092-af50-a91bc24dd34e",
   "metadata": {},
   "source": [
    "Can check the results at https://gml.noaa.gov/ccgg/trends/graph.html\n",
    "If we are way below, that's good. same or above, that's bad."
   ]
  },
  {
   "cell_type": "code",
   "execution_count": 10,
   "id": "5b9055e4-5036-4b91-9113-5621b5a70850",
   "metadata": {},
   "outputs": [],
   "source": [
    "resids = data['deseasonalized'].values[good] - func_line(data[\"decimal date\"].values[good], cf[0], cf[1])"
   ]
  },
  {
   "cell_type": "code",
   "execution_count": 11,
   "id": "deb37a6e-aab6-4f6f-b19d-ff4b6974385d",
   "metadata": {},
   "outputs": [
    {
     "data": {
      "image/png": "[encoded data removed]",
      "text/plain": [
       "<Figure size 640x480 with 1 Axes>"
      ]
     },
     "metadata": {},
     "output_type": "display_data"
    }
   ],
   "source": [
    "_temp = plt.hist(resids, bins=20)"
   ]
  },
  {
   "cell_type": "code",
   "execution_count": 12,
   "id": "31cc87c7-0db3-4d1f-bd42-4e6898bb2950",
   "metadata": {},
   "outputs": [
    {
     "data": {
      "text/plain": [
       "0.4547816457367761"
      ]
     },
     "execution_count": 12,
     "metadata": {},
     "output_type": "execute_result"
    }
   ],
   "source": [
    "resids.std()"
   ]
  },
  {
   "cell_type": "code",
   "execution_count": 13,
   "id": "b53901b5-1e5a-42ce-8d6c-7f98200742d3",
   "metadata": {},
   "outputs": [],
   "source": [
    "# Looks like standard deviation of residuals is ~0.5 ppm. So ~1.5 ppm is starting to be significant. Particle physicists want 2.5 ppm diff."
   ]
  },
  {
   "cell_type": "code",
   "execution_count": null,
   "id": "984f9ef6-2c24-48f4-b59b-fcc94d8a5ff8",
   "metadata": {},
   "outputs": [],
   "source": []
  }
 ],
 "metadata": {
  "kernelspec": {
   "display_name": "Python 3 (ipykernel)",
   "language": "python",
   "name": "python3"
  },
  "language_info": {
   "codemirror_mode": {
    "name": "ipython",
    "version": 3
   },
   "file_extension": ".py",
   "mimetype": "text/x-python",
   "name": "python",
   "nbconvert_exporter": "python",
   "pygments_lexer": "ipython3",
   "version": "3.11.8"
  }
 },
 "nbformat": 4,
 "nbformat_minor": 5
}
