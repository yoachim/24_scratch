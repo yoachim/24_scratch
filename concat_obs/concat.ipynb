{
 "cells": [
  {
   "cell_type": "code",
   "execution_count": 2,
   "id": "949cd254-7aba-4fdc-8788-34af70b91cc1",
   "metadata": {},
   "outputs": [],
   "source": [
    "import numpy as np\n",
    "from rubin_scheduler.scheduler.utils import ObservationArray"
   ]
  },
  {
   "cell_type": "code",
   "execution_count": 3,
   "id": "78872e54-7e03-48c9-a69d-7e3ee9ae05fa",
   "metadata": {},
   "outputs": [],
   "source": [
    "obs_1 = ObservationArray(n=1)\n",
    "obs_2 = ObservationArray(n=3)"
   ]
  },
  {
   "cell_type": "code",
   "execution_count": 7,
   "id": "8b81097c-e619-4e82-a7eb-f26a7e422816",
   "metadata": {},
   "outputs": [
    {
     "data": {
      "text/plain": [
       "ObservationArray([(0, 0., 0., 0., 0., 0., '', 0., 0., 0, 0., 0., 0., 0., 0., 0, 0., 0., 0., 0., 0., 0., 0., 0., 0., 0., 0., '', '', '', 0, 0., 0., 0., 0., 0., 0., 0., 0., 0., 0., 0., 0., 0., '', ''),\n",
       "                  (0, 0., 0., 0., 0., 0., '', 0., 0., 0, 0., 0., 0., 0., 0., 0, 0., 0., 0., 0., 0., 0., 0., 0., 0., 0., 0., '', '', '', 0, 0., 0., 0., 0., 0., 0., 0., 0., 0., 0., 0., 0., 0., '', ''),\n",
       "                  (0, 0., 0., 0., 0., 0., '', 0., 0., 0, 0., 0., 0., 0., 0., 0, 0., 0., 0., 0., 0., 0., 0., 0., 0., 0., 0., '', '', '', 0, 0., 0., 0., 0., 0., 0., 0., 0., 0., 0., 0., 0., 0., '', ''),\n",
       "                  (0, 0., 0., 0., 0., 0., '', 0., 0., 0, 0., 0., 0., 0., 0., 0, 0., 0., 0., 0., 0., 0., 0., 0., 0., 0., 0., '', '', '', 0, 0., 0., 0., 0., 0., 0., 0., 0., 0., 0., 0., 0., 0., '', '')],\n",
       "                 dtype=[('ID', '<i8'), ('RA', '<f8'), ('dec', '<f8'), ('mjd', '<f8'), ('flush_by_mjd', '<f8'), ('exptime', '<f8'), ('filter', '<U40'), ('rotSkyPos', '<f8'), ('rotSkyPos_desired', '<f8'), ('nexp', '<i8'), ('airmass', '<f8'), ('FWHM_500', '<f8'), ('FWHMeff', '<f8'), ('FWHM_geometric', '<f8'), ('skybrightness', '<f8'), ('night', '<i8'), ('slewtime', '<f8'), ('visittime', '<f8'), ('slewdist', '<f8'), ('fivesigmadepth', '<f8'), ('alt', '<f8'), ('az', '<f8'), ('pa', '<f8'), ('pseudo_pa', '<f8'), ('clouds', '<f8'), ('moonAlt', '<f8'), ('sunAlt', '<f8'), ('note', '<U40'), ('scheduler_note', '<U40'), ('target_name', '<U40'), ('block_id', '<i8'), ('lmst', '<f8'), ('rotTelPos', '<f8'), ('rotTelPos_backup', '<f8'), ('moonAz', '<f8'), ('sunAz', '<f8'), ('sunRA', '<f8'), ('sunDec', '<f8'), ('moonRA', '<f8'), ('moonDec', '<f8'), ('moonDist', '<f8'), ('solarElong', '<f8'), ('moonPhase', '<f8'), ('cummTelAz', '<f8'), ('observation_reason', '<U40'), ('science_program', '<U40')])"
      ]
     },
     "execution_count": 7,
     "metadata": {},
     "output_type": "execute_result"
    }
   ],
   "source": [
    "dest = ObservationArray(n=obs_1.size+obs_2.size)\n",
    "result = np.concatenate((obs_1,obs_2), out=dest)\n",
    "\n",
    "result"
   ]
  },
  {
   "cell_type": "code",
   "execution_count": null,
   "id": "7ebeef8d-79ee-4972-8c04-9c6fd3b68b73",
   "metadata": {},
   "outputs": [],
   "source": []
  },
  {
   "cell_type": "code",
   "execution_count": null,
   "id": "fa26b4c7-b69f-4a0c-9086-2409eacbd562",
   "metadata": {},
   "outputs": [],
   "source": []
  }
 ],
 "metadata": {
  "kernelspec": {
   "display_name": "Python 3 (ipykernel)",
   "language": "python",
   "name": "python3"
  },
  "language_info": {
   "codemirror_mode": {
    "name": "ipython",
    "version": 3
   },
   "file_extension": ".py",
   "mimetype": "text/x-python",
   "name": "python",
   "nbconvert_exporter": "python",
   "pygments_lexer": "ipython3",
   "version": "3.11.8"
  }
 },
 "nbformat": 4,
 "nbformat_minor": 5
}
